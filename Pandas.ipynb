{
 "cells": [
  {
   "cell_type": "markdown",
   "metadata": {},
   "source": [
    "### La librairie Pandas"
   ]
  },
  {
   "cell_type": "markdown",
   "metadata": {},
   "source": [
    "### Lire un fichier CSV avec Pandas"
   ]
  },
  {
   "cell_type": "code",
   "execution_count": 1,
   "metadata": {},
   "outputs": [],
   "source": [
    "import pandas as pd"
   ]
  },
  {
   "cell_type": "code",
   "execution_count": 2,
   "metadata": {},
   "outputs": [
    {
     "name": "stdout",
     "output_type": "stream",
     "text": [
      "<class 'pandas.core.frame.DataFrame'>\n"
     ]
    }
   ],
   "source": [
    "# lire le fichier CSV dans un dataframe\n",
    "# .read_csv(fichier)\n",
    "food_info = pd.read_csv(\"food-info.csv\")\n",
    "\n",
    "print(type(food_info))"
   ]
  },
  {
   "cell_type": "markdown",
   "metadata": {},
   "source": [
    "### Exploration du DataFrame"
   ]
  },
  {
   "cell_type": "code",
   "execution_count": 3,
   "metadata": {},
   "outputs": [
    {
     "data": {
      "text/html": [
       "<div>\n",
       "<style scoped>\n",
       "    .dataframe tbody tr th:only-of-type {\n",
       "        vertical-align: middle;\n",
       "    }\n",
       "\n",
       "    .dataframe tbody tr th {\n",
       "        vertical-align: top;\n",
       "    }\n",
       "\n",
       "    .dataframe thead th {\n",
       "        text-align: right;\n",
       "    }\n",
       "</style>\n",
       "<table border=\"1\" class=\"dataframe\">\n",
       "  <thead>\n",
       "    <tr style=\"text-align: right;\">\n",
       "      <th></th>\n",
       "      <th>NDB_No</th>\n",
       "      <th>Shrt_Desc</th>\n",
       "      <th>Water_(g)</th>\n",
       "      <th>Energ_Kcal</th>\n",
       "      <th>Protein_(g)</th>\n",
       "      <th>Lipid_Tot_(g)</th>\n",
       "      <th>Ash_(g)</th>\n",
       "      <th>Carbohydrt_(g)</th>\n",
       "      <th>Fiber_TD_(g)</th>\n",
       "      <th>Sugar_Tot_(g)</th>\n",
       "      <th>...</th>\n",
       "      <th>Vit_A_IU</th>\n",
       "      <th>Vit_A_RAE</th>\n",
       "      <th>Vit_E_(mg)</th>\n",
       "      <th>Vit_D_mcg</th>\n",
       "      <th>Vit_D_IU</th>\n",
       "      <th>Vit_K_(mcg)</th>\n",
       "      <th>FA_Sat_(g)</th>\n",
       "      <th>FA_Mono_(g)</th>\n",
       "      <th>FA_Poly_(g)</th>\n",
       "      <th>Cholestrl_(mg)</th>\n",
       "    </tr>\n",
       "  </thead>\n",
       "  <tbody>\n",
       "    <tr>\n",
       "      <th>0</th>\n",
       "      <td>1001</td>\n",
       "      <td>BUTTER WITH SALT</td>\n",
       "      <td>15.87</td>\n",
       "      <td>717</td>\n",
       "      <td>0.85</td>\n",
       "      <td>81.11</td>\n",
       "      <td>2.11</td>\n",
       "      <td>0.06</td>\n",
       "      <td>0.0</td>\n",
       "      <td>0.06</td>\n",
       "      <td>...</td>\n",
       "      <td>2499.0</td>\n",
       "      <td>684.0</td>\n",
       "      <td>2.32</td>\n",
       "      <td>1.5</td>\n",
       "      <td>60.0</td>\n",
       "      <td>7.0</td>\n",
       "      <td>51.368</td>\n",
       "      <td>21.021</td>\n",
       "      <td>3.043</td>\n",
       "      <td>215.0</td>\n",
       "    </tr>\n",
       "    <tr>\n",
       "      <th>1</th>\n",
       "      <td>1002</td>\n",
       "      <td>BUTTER WHIPPED WITH SALT</td>\n",
       "      <td>15.87</td>\n",
       "      <td>717</td>\n",
       "      <td>0.85</td>\n",
       "      <td>81.11</td>\n",
       "      <td>2.11</td>\n",
       "      <td>0.06</td>\n",
       "      <td>0.0</td>\n",
       "      <td>0.06</td>\n",
       "      <td>...</td>\n",
       "      <td>2499.0</td>\n",
       "      <td>684.0</td>\n",
       "      <td>2.32</td>\n",
       "      <td>1.5</td>\n",
       "      <td>60.0</td>\n",
       "      <td>7.0</td>\n",
       "      <td>50.489</td>\n",
       "      <td>23.426</td>\n",
       "      <td>3.012</td>\n",
       "      <td>219.0</td>\n",
       "    </tr>\n",
       "    <tr>\n",
       "      <th>2</th>\n",
       "      <td>1003</td>\n",
       "      <td>BUTTER OIL ANHYDROUS</td>\n",
       "      <td>0.24</td>\n",
       "      <td>876</td>\n",
       "      <td>0.28</td>\n",
       "      <td>99.48</td>\n",
       "      <td>0.00</td>\n",
       "      <td>0.00</td>\n",
       "      <td>0.0</td>\n",
       "      <td>0.00</td>\n",
       "      <td>...</td>\n",
       "      <td>3069.0</td>\n",
       "      <td>840.0</td>\n",
       "      <td>2.80</td>\n",
       "      <td>1.8</td>\n",
       "      <td>73.0</td>\n",
       "      <td>8.6</td>\n",
       "      <td>61.924</td>\n",
       "      <td>28.732</td>\n",
       "      <td>3.694</td>\n",
       "      <td>256.0</td>\n",
       "    </tr>\n",
       "    <tr>\n",
       "      <th>3</th>\n",
       "      <td>1004</td>\n",
       "      <td>CHEESE BLUE</td>\n",
       "      <td>42.41</td>\n",
       "      <td>353</td>\n",
       "      <td>21.40</td>\n",
       "      <td>28.74</td>\n",
       "      <td>5.11</td>\n",
       "      <td>2.34</td>\n",
       "      <td>0.0</td>\n",
       "      <td>0.50</td>\n",
       "      <td>...</td>\n",
       "      <td>721.0</td>\n",
       "      <td>198.0</td>\n",
       "      <td>0.25</td>\n",
       "      <td>0.5</td>\n",
       "      <td>21.0</td>\n",
       "      <td>2.4</td>\n",
       "      <td>18.669</td>\n",
       "      <td>7.778</td>\n",
       "      <td>0.800</td>\n",
       "      <td>75.0</td>\n",
       "    </tr>\n",
       "    <tr>\n",
       "      <th>4</th>\n",
       "      <td>1005</td>\n",
       "      <td>CHEESE BRICK</td>\n",
       "      <td>41.11</td>\n",
       "      <td>371</td>\n",
       "      <td>23.24</td>\n",
       "      <td>29.68</td>\n",
       "      <td>3.18</td>\n",
       "      <td>2.79</td>\n",
       "      <td>0.0</td>\n",
       "      <td>0.51</td>\n",
       "      <td>...</td>\n",
       "      <td>1080.0</td>\n",
       "      <td>292.0</td>\n",
       "      <td>0.26</td>\n",
       "      <td>0.5</td>\n",
       "      <td>22.0</td>\n",
       "      <td>2.5</td>\n",
       "      <td>18.764</td>\n",
       "      <td>8.598</td>\n",
       "      <td>0.784</td>\n",
       "      <td>94.0</td>\n",
       "    </tr>\n",
       "  </tbody>\n",
       "</table>\n",
       "<p>5 rows × 36 columns</p>\n",
       "</div>"
      ],
      "text/plain": [
       "   NDB_No                 Shrt_Desc  Water_(g)  Energ_Kcal  Protein_(g)  \\\n",
       "0    1001          BUTTER WITH SALT      15.87         717         0.85   \n",
       "1    1002  BUTTER WHIPPED WITH SALT      15.87         717         0.85   \n",
       "2    1003      BUTTER OIL ANHYDROUS       0.24         876         0.28   \n",
       "3    1004               CHEESE BLUE      42.41         353        21.40   \n",
       "4    1005              CHEESE BRICK      41.11         371        23.24   \n",
       "\n",
       "   Lipid_Tot_(g)  Ash_(g)  Carbohydrt_(g)  Fiber_TD_(g)  Sugar_Tot_(g)  \\\n",
       "0          81.11     2.11            0.06           0.0           0.06   \n",
       "1          81.11     2.11            0.06           0.0           0.06   \n",
       "2          99.48     0.00            0.00           0.0           0.00   \n",
       "3          28.74     5.11            2.34           0.0           0.50   \n",
       "4          29.68     3.18            2.79           0.0           0.51   \n",
       "\n",
       "        ...        Vit_A_IU  Vit_A_RAE  Vit_E_(mg)  Vit_D_mcg  Vit_D_IU  \\\n",
       "0       ...          2499.0      684.0        2.32        1.5      60.0   \n",
       "1       ...          2499.0      684.0        2.32        1.5      60.0   \n",
       "2       ...          3069.0      840.0        2.80        1.8      73.0   \n",
       "3       ...           721.0      198.0        0.25        0.5      21.0   \n",
       "4       ...          1080.0      292.0        0.26        0.5      22.0   \n",
       "\n",
       "   Vit_K_(mcg)  FA_Sat_(g)  FA_Mono_(g)  FA_Poly_(g)  Cholestrl_(mg)  \n",
       "0          7.0      51.368       21.021        3.043           215.0  \n",
       "1          7.0      50.489       23.426        3.012           219.0  \n",
       "2          8.6      61.924       28.732        3.694           256.0  \n",
       "3          2.4      18.669        7.778        0.800            75.0  \n",
       "4          2.5      18.764        8.598        0.784            94.0  \n",
       "\n",
       "[5 rows x 36 columns]"
      ]
     },
     "execution_count": 3,
     "metadata": {},
     "output_type": "execute_result"
    }
   ],
   "source": [
    "# head(n) => renvoie les n (5 par défaut) premières lignes\n",
    "food_info.head()"
   ]
  },
  {
   "cell_type": "code",
   "execution_count": 4,
   "metadata": {},
   "outputs": [
    {
     "data": {
      "text/html": [
       "<div>\n",
       "<style scoped>\n",
       "    .dataframe tbody tr th:only-of-type {\n",
       "        vertical-align: middle;\n",
       "    }\n",
       "\n",
       "    .dataframe tbody tr th {\n",
       "        vertical-align: top;\n",
       "    }\n",
       "\n",
       "    .dataframe thead th {\n",
       "        text-align: right;\n",
       "    }\n",
       "</style>\n",
       "<table border=\"1\" class=\"dataframe\">\n",
       "  <thead>\n",
       "    <tr style=\"text-align: right;\">\n",
       "      <th></th>\n",
       "      <th>NDB_No</th>\n",
       "      <th>Shrt_Desc</th>\n",
       "      <th>Water_(g)</th>\n",
       "      <th>Energ_Kcal</th>\n",
       "      <th>Protein_(g)</th>\n",
       "      <th>Lipid_Tot_(g)</th>\n",
       "      <th>Ash_(g)</th>\n",
       "      <th>Carbohydrt_(g)</th>\n",
       "      <th>Fiber_TD_(g)</th>\n",
       "      <th>Sugar_Tot_(g)</th>\n",
       "      <th>...</th>\n",
       "      <th>Vit_A_IU</th>\n",
       "      <th>Vit_A_RAE</th>\n",
       "      <th>Vit_E_(mg)</th>\n",
       "      <th>Vit_D_mcg</th>\n",
       "      <th>Vit_D_IU</th>\n",
       "      <th>Vit_K_(mcg)</th>\n",
       "      <th>FA_Sat_(g)</th>\n",
       "      <th>FA_Mono_(g)</th>\n",
       "      <th>FA_Poly_(g)</th>\n",
       "      <th>Cholestrl_(mg)</th>\n",
       "    </tr>\n",
       "  </thead>\n",
       "  <tbody>\n",
       "    <tr>\n",
       "      <th>0</th>\n",
       "      <td>1001</td>\n",
       "      <td>BUTTER WITH SALT</td>\n",
       "      <td>15.87</td>\n",
       "      <td>717</td>\n",
       "      <td>0.85</td>\n",
       "      <td>81.11</td>\n",
       "      <td>2.11</td>\n",
       "      <td>0.06</td>\n",
       "      <td>0.0</td>\n",
       "      <td>0.06</td>\n",
       "      <td>...</td>\n",
       "      <td>2499.0</td>\n",
       "      <td>684.0</td>\n",
       "      <td>2.32</td>\n",
       "      <td>1.5</td>\n",
       "      <td>60.0</td>\n",
       "      <td>7.0</td>\n",
       "      <td>51.368</td>\n",
       "      <td>21.021</td>\n",
       "      <td>3.043</td>\n",
       "      <td>215.0</td>\n",
       "    </tr>\n",
       "    <tr>\n",
       "      <th>1</th>\n",
       "      <td>1002</td>\n",
       "      <td>BUTTER WHIPPED WITH SALT</td>\n",
       "      <td>15.87</td>\n",
       "      <td>717</td>\n",
       "      <td>0.85</td>\n",
       "      <td>81.11</td>\n",
       "      <td>2.11</td>\n",
       "      <td>0.06</td>\n",
       "      <td>0.0</td>\n",
       "      <td>0.06</td>\n",
       "      <td>...</td>\n",
       "      <td>2499.0</td>\n",
       "      <td>684.0</td>\n",
       "      <td>2.32</td>\n",
       "      <td>1.5</td>\n",
       "      <td>60.0</td>\n",
       "      <td>7.0</td>\n",
       "      <td>50.489</td>\n",
       "      <td>23.426</td>\n",
       "      <td>3.012</td>\n",
       "      <td>219.0</td>\n",
       "    </tr>\n",
       "  </tbody>\n",
       "</table>\n",
       "<p>2 rows × 36 columns</p>\n",
       "</div>"
      ],
      "text/plain": [
       "   NDB_No                 Shrt_Desc  Water_(g)  Energ_Kcal  Protein_(g)  \\\n",
       "0    1001          BUTTER WITH SALT      15.87         717         0.85   \n",
       "1    1002  BUTTER WHIPPED WITH SALT      15.87         717         0.85   \n",
       "\n",
       "   Lipid_Tot_(g)  Ash_(g)  Carbohydrt_(g)  Fiber_TD_(g)  Sugar_Tot_(g)  \\\n",
       "0          81.11     2.11            0.06           0.0           0.06   \n",
       "1          81.11     2.11            0.06           0.0           0.06   \n",
       "\n",
       "        ...        Vit_A_IU  Vit_A_RAE  Vit_E_(mg)  Vit_D_mcg  Vit_D_IU  \\\n",
       "0       ...          2499.0      684.0        2.32        1.5      60.0   \n",
       "1       ...          2499.0      684.0        2.32        1.5      60.0   \n",
       "\n",
       "   Vit_K_(mcg)  FA_Sat_(g)  FA_Mono_(g)  FA_Poly_(g)  Cholestrl_(mg)  \n",
       "0          7.0      51.368       21.021        3.043           215.0  \n",
       "1          7.0      50.489       23.426        3.012           219.0  \n",
       "\n",
       "[2 rows x 36 columns]"
      ]
     },
     "execution_count": 4,
     "metadata": {},
     "output_type": "execute_result"
    }
   ],
   "source": [
    "food_info.head(2)"
   ]
  },
  {
   "cell_type": "code",
   "execution_count": 5,
   "metadata": {},
   "outputs": [
    {
     "name": "stdout",
     "output_type": "stream",
     "text": [
      "   NDB_No                 Shrt_Desc  Water_(g)  Energ_Kcal  Protein_(g)  \\\n",
      "0    1001          BUTTER WITH SALT      15.87         717         0.85   \n",
      "1    1002  BUTTER WHIPPED WITH SALT      15.87         717         0.85   \n",
      "\n",
      "   Lipid_Tot_(g)  Ash_(g)  Carbohydrt_(g)  Fiber_TD_(g)  Sugar_Tot_(g)  \\\n",
      "0          81.11     2.11            0.06           0.0           0.06   \n",
      "1          81.11     2.11            0.06           0.0           0.06   \n",
      "\n",
      "        ...        Vit_A_IU  Vit_A_RAE  Vit_E_(mg)  Vit_D_mcg  Vit_D_IU  \\\n",
      "0       ...          2499.0      684.0        2.32        1.5      60.0   \n",
      "1       ...          2499.0      684.0        2.32        1.5      60.0   \n",
      "\n",
      "   Vit_K_(mcg)  FA_Sat_(g)  FA_Mono_(g)  FA_Poly_(g)  Cholestrl_(mg)  \n",
      "0          7.0      51.368       21.021        3.043           215.0  \n",
      "1          7.0      50.489       23.426        3.012           219.0  \n",
      "\n",
      "[2 rows x 36 columns]\n"
     ]
    }
   ],
   "source": [
    "print(food_info.head(2))"
   ]
  },
  {
   "cell_type": "code",
   "execution_count": 6,
   "metadata": {},
   "outputs": [
    {
     "name": "stdout",
     "output_type": "stream",
     "text": [
      "Index(['NDB_No', 'Shrt_Desc', 'Water_(g)', 'Energ_Kcal', 'Protein_(g)',\n",
      "       'Lipid_Tot_(g)', 'Ash_(g)', 'Carbohydrt_(g)', 'Fiber_TD_(g)',\n",
      "       'Sugar_Tot_(g)', 'Calcium_(mg)', 'Iron_(mg)', 'Magnesium_(mg)',\n",
      "       'Phosphorus_(mg)', 'Potassium_(mg)', 'Sodium_(mg)', 'Zinc_(mg)',\n",
      "       'Copper_(mg)', 'Manganese_(mg)', 'Selenium_(mcg)', 'Vit_C_(mg)',\n",
      "       'Thiamin_(mg)', 'Riboflavin_(mg)', 'Niacin_(mg)', 'Vit_B6_(mg)',\n",
      "       'Vit_B12_(mcg)', 'Vit_A_IU', 'Vit_A_RAE', 'Vit_E_(mg)', 'Vit_D_mcg',\n",
      "       'Vit_D_IU', 'Vit_K_(mcg)', 'FA_Sat_(g)', 'FA_Mono_(g)', 'FA_Poly_(g)',\n",
      "       'Cholestrl_(mg)'],\n",
      "      dtype='object')\n"
     ]
    }
   ],
   "source": [
    "# columns\n",
    "\n",
    "column_names = food_info.columns\n",
    "print(column_names)"
   ]
  },
  {
   "cell_type": "code",
   "execution_count": 7,
   "metadata": {},
   "outputs": [
    {
     "name": "stdout",
     "output_type": "stream",
     "text": [
      "(8618, 36)\n"
     ]
    }
   ],
   "source": [
    "# shape => renvoie un tuple (nbre lignes x nombre de colonnes)\n",
    "dimensions = food_info.shape\n",
    "print(dimensions)"
   ]
  },
  {
   "cell_type": "code",
   "execution_count": 8,
   "metadata": {},
   "outputs": [
    {
     "name": "stdout",
     "output_type": "stream",
     "text": [
      "notre dataframe fait 8618 lignes par 36 colonnes\n"
     ]
    }
   ],
   "source": [
    "# Nombre de lignes\n",
    "num_rows = dimensions[0]\n",
    "num_cols = dimensions[1]\n",
    "print(f\"notre dataframe fait {num_rows} lignes par {num_cols} colonnes\")"
   ]
  },
  {
   "cell_type": "markdown",
   "metadata": {},
   "source": [
    "### Sélectionner une ligne"
   ]
  },
  {
   "cell_type": "code",
   "execution_count": 9,
   "metadata": {},
   "outputs": [
    {
     "data": {
      "text/plain": [
       "NDB_No                         1001\n",
       "Shrt_Desc          BUTTER WITH SALT\n",
       "Water_(g)                     15.87\n",
       "Energ_Kcal                      717\n",
       "Protein_(g)                    0.85\n",
       "Lipid_Tot_(g)                 81.11\n",
       "Ash_(g)                        2.11\n",
       "Carbohydrt_(g)                 0.06\n",
       "Fiber_TD_(g)                      0\n",
       "Sugar_Tot_(g)                  0.06\n",
       "Calcium_(mg)                     24\n",
       "Iron_(mg)                      0.02\n",
       "Magnesium_(mg)                    2\n",
       "Phosphorus_(mg)                  24\n",
       "Potassium_(mg)                   24\n",
       "Sodium_(mg)                     643\n",
       "Zinc_(mg)                      0.09\n",
       "Copper_(mg)                       0\n",
       "Manganese_(mg)                    0\n",
       "Selenium_(mcg)                    1\n",
       "Vit_C_(mg)                        0\n",
       "Thiamin_(mg)                  0.005\n",
       "Riboflavin_(mg)               0.034\n",
       "Niacin_(mg)                   0.042\n",
       "Vit_B6_(mg)                   0.003\n",
       "Vit_B12_(mcg)                  0.17\n",
       "Vit_A_IU                       2499\n",
       "Vit_A_RAE                       684\n",
       "Vit_E_(mg)                     2.32\n",
       "Vit_D_mcg                       1.5\n",
       "Vit_D_IU                         60\n",
       "Vit_K_(mcg)                       7\n",
       "FA_Sat_(g)                   51.368\n",
       "FA_Mono_(g)                  21.021\n",
       "FA_Poly_(g)                   3.043\n",
       "Cholestrl_(mg)                  215\n",
       "Name: 0, dtype: object"
      ]
     },
     "execution_count": 9,
     "metadata": {},
     "output_type": "execute_result"
    }
   ],
   "source": [
    "# loc[]\n",
    "# Objet Series représentant la ligne d'index 0 ou de position 1\n",
    "food_info.loc[0]"
   ]
  },
  {
   "cell_type": "code",
   "execution_count": 10,
   "metadata": {},
   "outputs": [
    {
     "ename": "KeyError",
     "evalue": "'the label [8620] is not in the [index]'",
     "output_type": "error",
     "traceback": [
      "\u001b[0;31m---------------------------------------------------------------------------\u001b[0m",
      "\u001b[0;31mKeyError\u001b[0m                                  Traceback (most recent call last)",
      "\u001b[0;32m~/anaconda3/lib/python3.6/site-packages/pandas/core/indexing.py\u001b[0m in \u001b[0;36m_validate_key\u001b[0;34m(self, key, axis)\u001b[0m\n\u001b[1;32m   1789\u001b[0m                 \u001b[0;32mif\u001b[0m \u001b[0;32mnot\u001b[0m \u001b[0max\u001b[0m\u001b[0;34m.\u001b[0m\u001b[0mcontains\u001b[0m\u001b[0;34m(\u001b[0m\u001b[0mkey\u001b[0m\u001b[0;34m)\u001b[0m\u001b[0;34m:\u001b[0m\u001b[0;34m\u001b[0m\u001b[0;34m\u001b[0m\u001b[0m\n\u001b[0;32m-> 1790\u001b[0;31m                     \u001b[0merror\u001b[0m\u001b[0;34m(\u001b[0m\u001b[0;34m)\u001b[0m\u001b[0;34m\u001b[0m\u001b[0;34m\u001b[0m\u001b[0m\n\u001b[0m\u001b[1;32m   1791\u001b[0m             \u001b[0;32mexcept\u001b[0m \u001b[0mTypeError\u001b[0m \u001b[0;32mas\u001b[0m \u001b[0me\u001b[0m\u001b[0;34m:\u001b[0m\u001b[0;34m\u001b[0m\u001b[0;34m\u001b[0m\u001b[0m\n",
      "\u001b[0;32m~/anaconda3/lib/python3.6/site-packages/pandas/core/indexing.py\u001b[0m in \u001b[0;36merror\u001b[0;34m()\u001b[0m\n\u001b[1;32m   1784\u001b[0m                                .format(key=key,\n\u001b[0;32m-> 1785\u001b[0;31m                                        axis=self.obj._get_axis_name(axis)))\n\u001b[0m\u001b[1;32m   1786\u001b[0m \u001b[0;34m\u001b[0m\u001b[0m\n",
      "\u001b[0;31mKeyError\u001b[0m: 'the label [8620] is not in the [index]'",
      "\nDuring handling of the above exception, another exception occurred:\n",
      "\u001b[0;31mKeyError\u001b[0m                                  Traceback (most recent call last)",
      "\u001b[0;32m<ipython-input-10-ceaed9dffabf>\u001b[0m in \u001b[0;36m<module>\u001b[0;34m\u001b[0m\n\u001b[1;32m      1\u001b[0m \u001b[0;31m# KeyError\u001b[0m\u001b[0;34m\u001b[0m\u001b[0;34m\u001b[0m\u001b[0;34m\u001b[0m\u001b[0m\n\u001b[0;32m----> 2\u001b[0;31m \u001b[0mfood_info\u001b[0m\u001b[0;34m.\u001b[0m\u001b[0mloc\u001b[0m\u001b[0;34m[\u001b[0m\u001b[0;36m8620\u001b[0m\u001b[0;34m]\u001b[0m\u001b[0;34m\u001b[0m\u001b[0;34m\u001b[0m\u001b[0m\n\u001b[0m",
      "\u001b[0;32m~/anaconda3/lib/python3.6/site-packages/pandas/core/indexing.py\u001b[0m in \u001b[0;36m__getitem__\u001b[0;34m(self, key)\u001b[0m\n\u001b[1;32m   1476\u001b[0m \u001b[0;34m\u001b[0m\u001b[0m\n\u001b[1;32m   1477\u001b[0m             \u001b[0mmaybe_callable\u001b[0m \u001b[0;34m=\u001b[0m \u001b[0mcom\u001b[0m\u001b[0;34m.\u001b[0m\u001b[0m_apply_if_callable\u001b[0m\u001b[0;34m(\u001b[0m\u001b[0mkey\u001b[0m\u001b[0;34m,\u001b[0m \u001b[0mself\u001b[0m\u001b[0;34m.\u001b[0m\u001b[0mobj\u001b[0m\u001b[0;34m)\u001b[0m\u001b[0;34m\u001b[0m\u001b[0;34m\u001b[0m\u001b[0m\n\u001b[0;32m-> 1478\u001b[0;31m             \u001b[0;32mreturn\u001b[0m \u001b[0mself\u001b[0m\u001b[0;34m.\u001b[0m\u001b[0m_getitem_axis\u001b[0m\u001b[0;34m(\u001b[0m\u001b[0mmaybe_callable\u001b[0m\u001b[0;34m,\u001b[0m \u001b[0maxis\u001b[0m\u001b[0;34m=\u001b[0m\u001b[0maxis\u001b[0m\u001b[0;34m)\u001b[0m\u001b[0;34m\u001b[0m\u001b[0;34m\u001b[0m\u001b[0m\n\u001b[0m\u001b[1;32m   1479\u001b[0m \u001b[0;34m\u001b[0m\u001b[0m\n\u001b[1;32m   1480\u001b[0m     \u001b[0;32mdef\u001b[0m \u001b[0m_is_scalar_access\u001b[0m\u001b[0;34m(\u001b[0m\u001b[0mself\u001b[0m\u001b[0;34m,\u001b[0m \u001b[0mkey\u001b[0m\u001b[0;34m)\u001b[0m\u001b[0;34m:\u001b[0m\u001b[0;34m\u001b[0m\u001b[0;34m\u001b[0m\u001b[0m\n",
      "\u001b[0;32m~/anaconda3/lib/python3.6/site-packages/pandas/core/indexing.py\u001b[0m in \u001b[0;36m_getitem_axis\u001b[0;34m(self, key, axis)\u001b[0m\n\u001b[1;32m   1909\u001b[0m \u001b[0;34m\u001b[0m\u001b[0m\n\u001b[1;32m   1910\u001b[0m         \u001b[0;31m# fall thru to straight lookup\u001b[0m\u001b[0;34m\u001b[0m\u001b[0;34m\u001b[0m\u001b[0;34m\u001b[0m\u001b[0m\n\u001b[0;32m-> 1911\u001b[0;31m         \u001b[0mself\u001b[0m\u001b[0;34m.\u001b[0m\u001b[0m_validate_key\u001b[0m\u001b[0;34m(\u001b[0m\u001b[0mkey\u001b[0m\u001b[0;34m,\u001b[0m \u001b[0maxis\u001b[0m\u001b[0;34m)\u001b[0m\u001b[0;34m\u001b[0m\u001b[0;34m\u001b[0m\u001b[0m\n\u001b[0m\u001b[1;32m   1912\u001b[0m         \u001b[0;32mreturn\u001b[0m \u001b[0mself\u001b[0m\u001b[0;34m.\u001b[0m\u001b[0m_get_label\u001b[0m\u001b[0;34m(\u001b[0m\u001b[0mkey\u001b[0m\u001b[0;34m,\u001b[0m \u001b[0maxis\u001b[0m\u001b[0;34m=\u001b[0m\u001b[0maxis\u001b[0m\u001b[0;34m)\u001b[0m\u001b[0;34m\u001b[0m\u001b[0;34m\u001b[0m\u001b[0m\n\u001b[1;32m   1913\u001b[0m \u001b[0;34m\u001b[0m\u001b[0m\n",
      "\u001b[0;32m~/anaconda3/lib/python3.6/site-packages/pandas/core/indexing.py\u001b[0m in \u001b[0;36m_validate_key\u001b[0;34m(self, key, axis)\u001b[0m\n\u001b[1;32m   1796\u001b[0m                 \u001b[0;32mraise\u001b[0m\u001b[0;34m\u001b[0m\u001b[0;34m\u001b[0m\u001b[0m\n\u001b[1;32m   1797\u001b[0m             \u001b[0;32mexcept\u001b[0m\u001b[0;34m:\u001b[0m\u001b[0;34m\u001b[0m\u001b[0;34m\u001b[0m\u001b[0m\n\u001b[0;32m-> 1798\u001b[0;31m                 \u001b[0merror\u001b[0m\u001b[0;34m(\u001b[0m\u001b[0;34m)\u001b[0m\u001b[0;34m\u001b[0m\u001b[0;34m\u001b[0m\u001b[0m\n\u001b[0m\u001b[1;32m   1799\u001b[0m \u001b[0;34m\u001b[0m\u001b[0m\n\u001b[1;32m   1800\u001b[0m     \u001b[0;32mdef\u001b[0m \u001b[0m_is_scalar_access\u001b[0m\u001b[0;34m(\u001b[0m\u001b[0mself\u001b[0m\u001b[0;34m,\u001b[0m \u001b[0mkey\u001b[0m\u001b[0;34m)\u001b[0m\u001b[0;34m:\u001b[0m\u001b[0;34m\u001b[0m\u001b[0;34m\u001b[0m\u001b[0m\n",
      "\u001b[0;32m~/anaconda3/lib/python3.6/site-packages/pandas/core/indexing.py\u001b[0m in \u001b[0;36merror\u001b[0;34m()\u001b[0m\n\u001b[1;32m   1783\u001b[0m                 raise KeyError(u\"the label [{key}] is not in the [{axis}]\"\n\u001b[1;32m   1784\u001b[0m                                .format(key=key,\n\u001b[0;32m-> 1785\u001b[0;31m                                        axis=self.obj._get_axis_name(axis)))\n\u001b[0m\u001b[1;32m   1786\u001b[0m \u001b[0;34m\u001b[0m\u001b[0m\n\u001b[1;32m   1787\u001b[0m             \u001b[0;32mtry\u001b[0m\u001b[0;34m:\u001b[0m\u001b[0;34m\u001b[0m\u001b[0;34m\u001b[0m\u001b[0m\n",
      "\u001b[0;31mKeyError\u001b[0m: 'the label [8620] is not in the [index]'"
     ]
    }
   ],
   "source": [
    "# KeyError\n",
    "food_info.loc[8620]"
   ]
  },
  {
   "cell_type": "code",
   "execution_count": 48,
   "metadata": {},
   "outputs": [
    {
     "data": {
      "text/plain": [
       "pandas.core.series.Series"
      ]
     },
     "execution_count": 48,
     "metadata": {},
     "output_type": "execute_result"
    }
   ],
   "source": [
    "type(food_info.loc[0])"
   ]
  },
  {
   "cell_type": "code",
   "execution_count": null,
   "metadata": {},
   "outputs": [],
   "source": [
    "row_100 = food_info.loc[99]\n",
    "print(row_100)"
   ]
  },
  {
   "cell_type": "markdown",
   "metadata": {},
   "source": [
    "### Les types de données Pandas"
   ]
  },
  {
   "cell_type": "code",
   "execution_count": null,
   "metadata": {},
   "outputs": [],
   "source": [
    "# object\n",
    "# int\n",
    "# float\n",
    "# datetime\n",
    "# bool\n",
    "\n",
    "# dataframe.dtypes\n",
    "print(food_info.dtypes)"
   ]
  },
  {
   "cell_type": "markdown",
   "metadata": {},
   "source": [
    "### Sélectionner plusieurs lignes"
   ]
  },
  {
   "cell_type": "code",
   "execution_count": null,
   "metadata": {},
   "outputs": [],
   "source": [
    "# Dataframe contenant les lignes d'index 3,4,5 et 6\n",
    "food_info.loc[3:6]"
   ]
  },
  {
   "cell_type": "code",
   "execution_count": null,
   "metadata": {},
   "outputs": [],
   "source": [
    "# Dataframe contenant les lignes d'index 2, 5 et 10\n",
    "\n",
    "two_five_ten = [2, 5, 10]\n",
    "food_info.loc[two_five_ten]"
   ]
  },
  {
   "cell_type": "code",
   "execution_count": null,
   "metadata": {},
   "outputs": [],
   "source": [
    "food_info.loc[[2, 5, 10]]"
   ]
  },
  {
   "cell_type": "code",
   "execution_count": null,
   "metadata": {},
   "outputs": [],
   "source": [
    "last_rows = food_info.loc[food_info.shape[0] - 5:food_info.shape[0] - 1]\n",
    "last_rows"
   ]
  },
  {
   "cell_type": "markdown",
   "metadata": {},
   "source": [
    "### Sélectionner une colonne"
   ]
  },
  {
   "cell_type": "code",
   "execution_count": null,
   "metadata": {},
   "outputs": [],
   "source": [
    "# Objet Series représentant la colonne \"NDB_No\"\n",
    "ndb_col = food_info[\"NDB_No\"]\n",
    "print(ndb_col)\n",
    "# ou\n",
    "col_name = \"NDB_No\"\n",
    "ndb_col = food_info[col_name]\n",
    "print(ndb_col)"
   ]
  },
  {
   "cell_type": "code",
   "execution_count": null,
   "metadata": {},
   "outputs": [],
   "source": [
    "protein = food_info[\"Protein_(g)\"]\n",
    "cholesterol = food_info[\"Cholestrl_(mg)\"]\n",
    "print(protein)\n",
    "print(cholesterol)"
   ]
  },
  {
   "cell_type": "markdown",
   "metadata": {},
   "source": [
    "### Sélectionner plusieurs colonnes"
   ]
  },
  {
   "cell_type": "code",
   "execution_count": null,
   "metadata": {},
   "outputs": [],
   "source": [
    "columns = [\"Zinc_(mg)\", \"Copper_(mg)\"]\n",
    "zinc_copper = food_info[columns]\n",
    "print(zinc_copper)\n",
    "\n",
    "# ou directement\n",
    "print(food_info[[\"Zinc_(mg)\", \"Copper_(mg)\"]])\n"
   ]
  },
  {
   "cell_type": "code",
   "execution_count": null,
   "metadata": {},
   "outputs": [],
   "source": [
    "selenium_thiamin = food_info[[\"Shrt_Desc\", \"Selenium_(mcg)\", \"Thiamin_(mg)\"]]\n",
    "print(selenium_thiamin)"
   ]
  },
  {
   "cell_type": "markdown",
   "metadata": {},
   "source": [
    "### Cas pratique\n",
    "#### Sélectionner et afficher seulement les colonnes qui utilisent comme unité de mesure les grammes (c-à-d qui se terminent par \"_(g)\")"
   ]
  },
  {
   "cell_type": "code",
   "execution_count": null,
   "metadata": {},
   "outputs": [],
   "source": [
    "grammes = [name for name in food_info.columns.tolist() if name.endswith(\"_(g)\")]"
   ]
  },
  {
   "cell_type": "code",
   "execution_count": null,
   "metadata": {},
   "outputs": [],
   "source": [
    "gram_df = food_info[grammes]\n",
    "print(gram_df.head(3))\n",
    "gram_df.head(3)"
   ]
  },
  {
   "cell_type": "markdown",
   "metadata": {},
   "source": [
    "## Manipulation de données avec Pandas"
   ]
  },
  {
   "cell_type": "markdown",
   "metadata": {},
   "source": [
    "### Introduction"
   ]
  },
  {
   "cell_type": "code",
   "execution_count": null,
   "metadata": {},
   "outputs": [],
   "source": [
    "import pandas as pd\n",
    "\n",
    "food_info = pd.read_csv(\"food-info.csv\")\n",
    "col_names = [col for col in food_info.columns.tolist()]\n",
    "for col in col_names:\n",
    "    print(col)\n",
    "    \n",
    "print(food_info.head(3))"
   ]
  },
  {
   "cell_type": "markdown",
   "metadata": {},
   "source": [
    "### Transformer une colonne"
   ]
  },
  {
   "cell_type": "code",
   "execution_count": null,
   "metadata": {},
   "outputs": [],
   "source": [
    "# Score = 2 x Protein - 0.75 x Lipid"
   ]
  },
  {
   "cell_type": "code",
   "execution_count": null,
   "metadata": {},
   "outputs": [],
   "source": [
    "div_1000 = food_info[\"Iron_(mg)\"] / 1000"
   ]
  },
  {
   "cell_type": "code",
   "execution_count": null,
   "metadata": {},
   "outputs": [],
   "source": [
    "div_1000"
   ]
  },
  {
   "cell_type": "code",
   "execution_count": null,
   "metadata": {},
   "outputs": [],
   "source": [
    "# ajoute 100 à chaque valeur dans la colonne et retourne un nouvel objet Series"
   ]
  },
  {
   "cell_type": "code",
   "execution_count": null,
   "metadata": {},
   "outputs": [],
   "source": [
    "add_100 = food_info[\"Iron_(mg)\"] + 100"
   ]
  },
  {
   "cell_type": "code",
   "execution_count": null,
   "metadata": {},
   "outputs": [],
   "source": [
    "add_100.head(3)"
   ]
  },
  {
   "cell_type": "code",
   "execution_count": null,
   "metadata": {},
   "outputs": [],
   "source": [
    "sodium_grams = food_info[\"Sodium_(mg)\"] * 1000\n",
    "sodium_grams.head(5)"
   ]
  },
  {
   "cell_type": "code",
   "execution_count": null,
   "metadata": {},
   "outputs": [],
   "source": [
    "sugar_milligrams = food_info[\"Sugar_Tot_(g)\"] / 1000\n",
    "sugar_milligrams.head(10)"
   ]
  },
  {
   "cell_type": "markdown",
   "metadata": {},
   "source": [
    "### Opérations mathématiques entre colonnes"
   ]
  },
  {
   "cell_type": "code",
   "execution_count": null,
   "metadata": {},
   "outputs": [],
   "source": [
    "water_energy = food_info[\"Water_(g)\"] * food_info[\"Energ_Kcal\"]"
   ]
  },
  {
   "cell_type": "code",
   "execution_count": null,
   "metadata": {},
   "outputs": [],
   "source": [
    "water_energy.head(5)"
   ]
  },
  {
   "cell_type": "code",
   "execution_count": null,
   "metadata": {},
   "outputs": [],
   "source": [
    "print(food_info[[\"Water_(g)\", \"Energ_Kcal\"]][:5])"
   ]
  },
  {
   "cell_type": "code",
   "execution_count": null,
   "metadata": {},
   "outputs": [],
   "source": [
    "grams_of_proteins_per_grams_of_water = food_info[\"Protein_(g)\"] / food_info[\"Water_(g)\"]"
   ]
  },
  {
   "cell_type": "code",
   "execution_count": null,
   "metadata": {},
   "outputs": [],
   "source": [
    "milligrams_of_calcium_and_iron = food_info[\"Calcium_(mg)\"] + food_info[\"Iron_(mg)\"]"
   ]
  },
  {
   "cell_type": "code",
   "execution_count": null,
   "metadata": {},
   "outputs": [],
   "source": [
    "print(grams_of_proteins_per_grams_of_water[:10])"
   ]
  },
  {
   "cell_type": "code",
   "execution_count": null,
   "metadata": {},
   "outputs": [],
   "source": [
    "print(milligrams_of_calcium_and_iron[:10])"
   ]
  },
  {
   "cell_type": "markdown",
   "metadata": {},
   "source": [
    "### Créer un indice nutritionnel"
   ]
  },
  {
   "cell_type": "markdown",
   "metadata": {},
   "source": [
    "Score = 2 x (Protein_(g)) - 0.75 x (Lipid_Tot_(g))"
   ]
  },
  {
   "cell_type": "code",
   "execution_count": null,
   "metadata": {},
   "outputs": [],
   "source": [
    "protein = food_info[\"Protein_(g)\"] * 2\n",
    "fat = food_info[\"Lipid_Tot_(g)\"] * -0.75\n",
    "rating = protein + fat\n",
    "print(rating)"
   ]
  },
  {
   "cell_type": "markdown",
   "metadata": {},
   "source": [
    "### Normaliser des colonnes"
   ]
  },
  {
   "cell_type": "code",
   "execution_count": null,
   "metadata": {},
   "outputs": [],
   "source": [
    "# Series.max()"
   ]
  },
  {
   "cell_type": "code",
   "execution_count": null,
   "metadata": {},
   "outputs": [],
   "source": [
    "# Valeur max de la colonne \"Energ_Kcal\"\n",
    "max_calories = food_info[\"Energ_Kcal\"].max()\n",
    "print(f\"le plus calorique est {max_calories}\")"
   ]
  },
  {
   "cell_type": "code",
   "execution_count": null,
   "metadata": {},
   "outputs": [],
   "source": [
    "# Diviser les valerus de la colonne \"Energ_Kcal\"par la valeur max de cette colonne\n",
    "normalized_calories = food_info[\"Energ_Kcal\"] / max_calories\n",
    "print(normalized_calories)"
   ]
  },
  {
   "cell_type": "code",
   "execution_count": null,
   "metadata": {},
   "outputs": [],
   "source": [
    "normalized_protein = food_info[\"Protein_(g)\"] / food_info[\"Protein_(g)\"].max()\n",
    "normalized_fat = food_info[\"Lipid_Tot_(g)\"] / food_info[\"Lipid_Tot_(g)\"].max()"
   ]
  },
  {
   "cell_type": "markdown",
   "metadata": {},
   "source": [
    "### Créer une nouvelle colonne"
   ]
  },
  {
   "cell_type": "code",
   "execution_count": null,
   "metadata": {},
   "outputs": [],
   "source": [
    "iron_grams = food_info[\"Iron_(mg)\"] / 1000\n",
    "food_info[\"Iron_(g)\"] = iron_grams"
   ]
  },
  {
   "cell_type": "code",
   "execution_count": null,
   "metadata": {},
   "outputs": [],
   "source": [
    "food_info[\"Normalized_Protein\"] = normalized_protein\n",
    "food_info[\"Normalized_Fat\"] = normalized_fat\n",
    "print(food_info.head(5))"
   ]
  },
  {
   "cell_type": "markdown",
   "metadata": {},
   "source": [
    "### Supprimer une colonne"
   ]
  },
  {
   "cell_type": "code",
   "execution_count": null,
   "metadata": {},
   "outputs": [],
   "source": [
    "# dataframe.drop(\"Nom_colonne\", axis=0|1, inplace=True)\n",
    "# axis 0 => x rows/lignes\n",
    "# axis 1 => y columns/colonnes\n",
    "food_info.drop(\"Iron_(g)\", axis=1, inplace=True)\n",
    "food_info"
   ]
  },
  {
   "cell_type": "markdown",
   "metadata": {},
   "source": [
    "### Créer un indice nutritionnel normalisé"
   ]
  },
  {
   "cell_type": "code",
   "execution_count": null,
   "metadata": {},
   "outputs": [],
   "source": [
    "food_info[\"Norm_Nutr_Index\"] = 2 * food_info[\"Normalized_Protein\"] - 0.75 * food_info[\"Normalized_Fat\"]\n",
    "food_info.head()"
   ]
  },
  {
   "cell_type": "markdown",
   "metadata": {},
   "source": [
    "### Trier un DataFrame"
   ]
  },
  {
   "cell_type": "code",
   "execution_count": null,
   "metadata": {},
   "outputs": [],
   "source": [
    "# df.sort_values(\"Nom Colonne\", inplace=True, ascending=False)\n",
    "food_info.sort_values(\"Norm_Nutr_Index\", inplace=True, ascending=False)"
   ]
  },
  {
   "cell_type": "code",
   "execution_count": null,
   "metadata": {},
   "outputs": [],
   "source": [
    "food_info"
   ]
  },
  {
   "cell_type": "markdown",
   "metadata": {},
   "source": [
    "## Traiter les valeurs manquantes "
   ]
  },
  {
   "cell_type": "markdown",
   "metadata": {},
   "source": [
    "### Introduction au dataset"
   ]
  },
  {
   "cell_type": "code",
   "execution_count": 11,
   "metadata": {},
   "outputs": [
    {
     "data": {
      "text/html": [
       "<div>\n",
       "<style scoped>\n",
       "    .dataframe tbody tr th:only-of-type {\n",
       "        vertical-align: middle;\n",
       "    }\n",
       "\n",
       "    .dataframe tbody tr th {\n",
       "        vertical-align: top;\n",
       "    }\n",
       "\n",
       "    .dataframe thead th {\n",
       "        text-align: right;\n",
       "    }\n",
       "</style>\n",
       "<table border=\"1\" class=\"dataframe\">\n",
       "  <thead>\n",
       "    <tr style=\"text-align: right;\">\n",
       "      <th></th>\n",
       "      <th>pclass</th>\n",
       "      <th>survived</th>\n",
       "      <th>name</th>\n",
       "      <th>sex</th>\n",
       "      <th>age</th>\n",
       "      <th>sibsp</th>\n",
       "      <th>parch</th>\n",
       "      <th>ticket</th>\n",
       "      <th>fare</th>\n",
       "      <th>cabin</th>\n",
       "      <th>embarked</th>\n",
       "      <th>boat</th>\n",
       "      <th>body</th>\n",
       "      <th>home.dest</th>\n",
       "    </tr>\n",
       "  </thead>\n",
       "  <tbody>\n",
       "    <tr>\n",
       "      <th>0</th>\n",
       "      <td>1.0</td>\n",
       "      <td>1.0</td>\n",
       "      <td>Allen, Miss. Elisabeth Walton</td>\n",
       "      <td>female</td>\n",
       "      <td>29.0000</td>\n",
       "      <td>0.0</td>\n",
       "      <td>0.0</td>\n",
       "      <td>24160</td>\n",
       "      <td>211.3375</td>\n",
       "      <td>B5</td>\n",
       "      <td>S</td>\n",
       "      <td>2</td>\n",
       "      <td>NaN</td>\n",
       "      <td>St Louis, MO</td>\n",
       "    </tr>\n",
       "    <tr>\n",
       "      <th>1</th>\n",
       "      <td>1.0</td>\n",
       "      <td>1.0</td>\n",
       "      <td>Allison, Master. Hudson Trevor</td>\n",
       "      <td>male</td>\n",
       "      <td>0.9167</td>\n",
       "      <td>1.0</td>\n",
       "      <td>2.0</td>\n",
       "      <td>113781</td>\n",
       "      <td>151.5500</td>\n",
       "      <td>C22 C26</td>\n",
       "      <td>S</td>\n",
       "      <td>11</td>\n",
       "      <td>NaN</td>\n",
       "      <td>Montreal, PQ / Chesterville, ON</td>\n",
       "    </tr>\n",
       "    <tr>\n",
       "      <th>2</th>\n",
       "      <td>1.0</td>\n",
       "      <td>0.0</td>\n",
       "      <td>Allison, Miss. Helen Loraine</td>\n",
       "      <td>female</td>\n",
       "      <td>2.0000</td>\n",
       "      <td>1.0</td>\n",
       "      <td>2.0</td>\n",
       "      <td>113781</td>\n",
       "      <td>151.5500</td>\n",
       "      <td>C22 C26</td>\n",
       "      <td>S</td>\n",
       "      <td>NaN</td>\n",
       "      <td>NaN</td>\n",
       "      <td>Montreal, PQ / Chesterville, ON</td>\n",
       "    </tr>\n",
       "    <tr>\n",
       "      <th>3</th>\n",
       "      <td>1.0</td>\n",
       "      <td>0.0</td>\n",
       "      <td>Allison, Mr. Hudson Joshua Creighton</td>\n",
       "      <td>male</td>\n",
       "      <td>30.0000</td>\n",
       "      <td>1.0</td>\n",
       "      <td>2.0</td>\n",
       "      <td>113781</td>\n",
       "      <td>151.5500</td>\n",
       "      <td>C22 C26</td>\n",
       "      <td>S</td>\n",
       "      <td>NaN</td>\n",
       "      <td>135.0</td>\n",
       "      <td>Montreal, PQ / Chesterville, ON</td>\n",
       "    </tr>\n",
       "    <tr>\n",
       "      <th>4</th>\n",
       "      <td>1.0</td>\n",
       "      <td>0.0</td>\n",
       "      <td>Allison, Mrs. Hudson J C (Bessie Waldo Daniels)</td>\n",
       "      <td>female</td>\n",
       "      <td>25.0000</td>\n",
       "      <td>1.0</td>\n",
       "      <td>2.0</td>\n",
       "      <td>113781</td>\n",
       "      <td>151.5500</td>\n",
       "      <td>C22 C26</td>\n",
       "      <td>S</td>\n",
       "      <td>NaN</td>\n",
       "      <td>NaN</td>\n",
       "      <td>Montreal, PQ / Chesterville, ON</td>\n",
       "    </tr>\n",
       "  </tbody>\n",
       "</table>\n",
       "</div>"
      ],
      "text/plain": [
       "   pclass  survived                                             name     sex  \\\n",
       "0     1.0       1.0                    Allen, Miss. Elisabeth Walton  female   \n",
       "1     1.0       1.0                   Allison, Master. Hudson Trevor    male   \n",
       "2     1.0       0.0                     Allison, Miss. Helen Loraine  female   \n",
       "3     1.0       0.0             Allison, Mr. Hudson Joshua Creighton    male   \n",
       "4     1.0       0.0  Allison, Mrs. Hudson J C (Bessie Waldo Daniels)  female   \n",
       "\n",
       "       age  sibsp  parch  ticket      fare    cabin embarked boat   body  \\\n",
       "0  29.0000    0.0    0.0   24160  211.3375       B5        S    2    NaN   \n",
       "1   0.9167    1.0    2.0  113781  151.5500  C22 C26        S   11    NaN   \n",
       "2   2.0000    1.0    2.0  113781  151.5500  C22 C26        S  NaN    NaN   \n",
       "3  30.0000    1.0    2.0  113781  151.5500  C22 C26        S  NaN  135.0   \n",
       "4  25.0000    1.0    2.0  113781  151.5500  C22 C26        S  NaN    NaN   \n",
       "\n",
       "                         home.dest  \n",
       "0                     St Louis, MO  \n",
       "1  Montreal, PQ / Chesterville, ON  \n",
       "2  Montreal, PQ / Chesterville, ON  \n",
       "3  Montreal, PQ / Chesterville, ON  \n",
       "4  Montreal, PQ / Chesterville, ON  "
      ]
     },
     "execution_count": 11,
     "metadata": {},
     "output_type": "execute_result"
    }
   ],
   "source": [
    "import pandas as pd\n",
    "titanic_survival = pd.read_csv(\"titanic-survival.csv\")\n",
    "titanic_survival.head()"
   ]
  },
  {
   "cell_type": "markdown",
   "metadata": {},
   "source": [
    "### Trouver les valeurs manquantes"
   ]
  },
  {
   "cell_type": "code",
   "execution_count": 21,
   "metadata": {},
   "outputs": [],
   "source": [
    "# pandas.isnull(\"Nom Colonne\") => renvoie un objet Serie avec True si la valeur est manquante, False sinon\n",
    "sex = titanic_survival[\"sex\"]\n",
    "sex_is_null = pd.isnull(sex)"
   ]
  },
  {
   "cell_type": "code",
   "execution_count": 22,
   "metadata": {},
   "outputs": [
    {
     "data": {
      "text/plain": [
       "0       False\n",
       "1       False\n",
       "2       False\n",
       "3       False\n",
       "4       False\n",
       "5       False\n",
       "6       False\n",
       "7       False\n",
       "8       False\n",
       "9       False\n",
       "10      False\n",
       "11      False\n",
       "12      False\n",
       "13      False\n",
       "14      False\n",
       "15      False\n",
       "16      False\n",
       "17      False\n",
       "18      False\n",
       "19      False\n",
       "20      False\n",
       "21      False\n",
       "22      False\n",
       "23      False\n",
       "24      False\n",
       "25      False\n",
       "26      False\n",
       "27      False\n",
       "28      False\n",
       "29      False\n",
       "        ...  \n",
       "1280    False\n",
       "1281    False\n",
       "1282    False\n",
       "1283    False\n",
       "1284    False\n",
       "1285    False\n",
       "1286    False\n",
       "1287    False\n",
       "1288    False\n",
       "1289    False\n",
       "1290    False\n",
       "1291    False\n",
       "1292    False\n",
       "1293    False\n",
       "1294    False\n",
       "1295    False\n",
       "1296    False\n",
       "1297    False\n",
       "1298    False\n",
       "1299    False\n",
       "1300    False\n",
       "1301    False\n",
       "1302    False\n",
       "1303    False\n",
       "1304    False\n",
       "1305    False\n",
       "1306    False\n",
       "1307    False\n",
       "1308    False\n",
       "1309     True\n",
       "Name: sex, Length: 1310, dtype: bool"
      ]
     },
     "execution_count": 22,
     "metadata": {},
     "output_type": "execute_result"
    }
   ],
   "source": [
    "sex_is_null"
   ]
  },
  {
   "cell_type": "code",
   "execution_count": null,
   "metadata": {},
   "outputs": [],
   "source": [
    "sex_null = sex[sex_is_null]\n",
    "sex_null"
   ]
  },
  {
   "cell_type": "code",
   "execution_count": null,
   "metadata": {},
   "outputs": [],
   "source": [
    "age = titanic_survival[\"age\"]\n",
    "age_is_null = pd.isnull(age)\n",
    "age_null = age[age_is_null]\n",
    "age_null_count = len(age_null)\n",
    "print(f\"le nombre d'ages non renseignés est {age_null_count}\")"
   ]
  },
  {
   "cell_type": "markdown",
   "metadata": {},
   "source": [
    "### Problème avec les valeurs manquantes"
   ]
  },
  {
   "cell_type": "code",
   "execution_count": null,
   "metadata": {},
   "outputs": [],
   "source": [
    "mean_age = sum(titanic_survival[\"age\"]) / len(titanic_survival[\"age\"])\n",
    "print(f\"l'age moyen est {mean_age}\")"
   ]
  },
  {
   "cell_type": "code",
   "execution_count": null,
   "metadata": {},
   "outputs": [],
   "source": [
    "good_ages_1 = [age for age in titanic_survival[\"age\"] if age > 0]\n",
    "mean_age = sum(good_ages_1) / len(good_ages_1)\n",
    "print(f\"l'age moyen est {mean_age}\")"
   ]
  },
  {
   "cell_type": "code",
   "execution_count": null,
   "metadata": {},
   "outputs": [],
   "source": [
    "good_ages_1 \n",
    "print(age_is_null[:20])"
   ]
  },
  {
   "cell_type": "code",
   "execution_count": null,
   "metadata": {},
   "outputs": [],
   "source": [
    "age_is_null = pd.isnull(titanic_survival[\"age\"])\n",
    "good_ages = titanic_survival[\"age\"][age_is_null == False]\n",
    "mean_age = sum(good_ages) / len(good_ages)\n",
    "print(f\"l'age moyen est {mean_age}\")"
   ]
  },
  {
   "cell_type": "markdown",
   "metadata": {},
   "source": [
    "### Calculer une moyenne plus simplement"
   ]
  },
  {
   "cell_type": "code",
   "execution_count": null,
   "metadata": {},
   "outputs": [],
   "source": [
    "print(f\"l'age moyen est {titanic_survival['age'].mean()}\")"
   ]
  },
  {
   "cell_type": "code",
   "execution_count": null,
   "metadata": {},
   "outputs": [],
   "source": [
    "mean_fare = titanic_survival[\"fare\"].mean()\n",
    "print(f\"le tarif moyen est {mean_fare}\")"
   ]
  },
  {
   "cell_type": "markdown",
   "metadata": {},
   "source": [
    "### Calculer des statistiques de prix"
   ]
  },
  {
   "cell_type": "code",
   "execution_count": null,
   "metadata": {},
   "outputs": [],
   "source": [
    "fares_by_class = {}\n",
    "passenger_classes = [1, 2, 3]\n",
    "for classe in passenger_classes:\n",
    "    fares_by_class[classe] = titanic_survival[\"fare\"][titanic_survival[\"pclass\"] == classe].mean()\n",
    "\n",
    "print(fares_by_class)\n",
    "\n",
    "# Solution de Rod\n",
    "for this_class in passenger_classes:\n",
    "    pclass_rows = titanic_survival[titanic_survival[\"pclass\"] == this_class]\n",
    "    pclass_fares = pclass_rows[\"fare\"]\n",
    "    fare_for_class = pclass_fares.mean()\n",
    "    fares_by_class[this_class] = fare_for_class\n",
    "    \n",
    "print(fares_by_class)"
   ]
  },
  {
   "cell_type": "markdown",
   "metadata": {},
   "source": [
    "### Introduction aux pivots de table"
   ]
  },
  {
   "cell_type": "code",
   "execution_count": 41,
   "metadata": {},
   "outputs": [],
   "source": [
    "# df.pivot_table(index=\"colonne à grouper\", values=\"colonne sur laquelle on applique la fonction\", aggfunc=\"par défaut mean()\")\n",
    "import numpy\n",
    "passenger_class_fares = titanic_survival.pivot_table(index=\"pclass\", values=\"fare\", aggfunc=numpy.mean)"
   ]
  },
  {
   "cell_type": "code",
   "execution_count": 42,
   "metadata": {},
   "outputs": [
    {
     "name": "stdout",
     "output_type": "stream",
     "text": [
      "             fare\n",
      "pclass           \n",
      "1.0     87.508992\n",
      "2.0     21.179196\n",
      "3.0     13.302889\n"
     ]
    }
   ],
   "source": [
    "print(passenger_class_fares)"
   ]
  },
  {
   "cell_type": "code",
   "execution_count": 43,
   "metadata": {},
   "outputs": [
    {
     "name": "stdout",
     "output_type": "stream",
     "text": [
      "              age\n",
      "pclass           \n",
      "1.0     39.159918\n",
      "2.0     29.506705\n",
      "3.0     24.816367\n"
     ]
    }
   ],
   "source": [
    "passenger_ages = titanic_survival.pivot_table(index=\"pclass\", values=\"age\")\n",
    "print(passenger_ages)"
   ]
  },
  {
   "cell_type": "code",
   "execution_count": 44,
   "metadata": {},
   "outputs": [
    {
     "name": "stdout",
     "output_type": "stream",
     "text": [
      "        survived\n",
      "pclass          \n",
      "1.0     0.619195\n",
      "2.0     0.429603\n",
      "3.0     0.255289\n"
     ]
    }
   ],
   "source": [
    "passenger_survival = titanic_survival.pivot_table(index=\"pclass\", values=\"survived\")\n",
    "print(passenger_survival)"
   ]
  },
  {
   "cell_type": "markdown",
   "metadata": {},
   "source": [
    "### Tables Pivot Niveau 2"
   ]
  },
  {
   "cell_type": "code",
   "execution_count": 47,
   "metadata": {},
   "outputs": [
    {
     "name": "stdout",
     "output_type": "stream",
     "text": [
      "                fare  survived\n",
      "embarked                      \n",
      "C         16830.7922     150.0\n",
      "Q          1526.3085      44.0\n",
      "S         25033.3862     304.0\n"
     ]
    }
   ],
   "source": [
    "port_stats = titanic_survival.pivot_table(index=\"embarked\", values=[\"fare\", \"survived\"], aggfunc=numpy.sum)\n",
    "print(port_stats)"
   ]
  },
  {
   "cell_type": "markdown",
   "metadata": {},
   "source": [
    "### Eliminer les valeurs manquantes d'une matrice"
   ]
  },
  {
   "cell_type": "code",
   "execution_count": null,
   "metadata": {},
   "outputs": [],
   "source": [
    "# dataframe.dropna(axis=0 ou 'index'|1 ou 'column', how=\"any\"|\"all\", subset=[\"nom colonnes\"...])\n",
    "# index => vire la ligne contenant les valeurs manquantes, défaut\n",
    "# column => vire la colonne contenant les valeurs manquantes\n",
    "# how=\"any\" => vire la ligne/colonne s'il y a une valeur manquante\n",
    "# how=\"all\" => vire la ligne/colonne si toutes les valeurs sont manquantes\n",
    "drop_na_rows = titanic_survival.dropna(axis=0)\n",
    "drop_na_cols = titanic_survival.dropna(axis=1)"
   ]
  },
  {
   "cell_type": "code",
   "execution_count": null,
   "metadata": {},
   "outputs": [],
   "source": [
    "drop_na_cols"
   ]
  },
  {
   "cell_type": "code",
   "execution_count": null,
   "metadata": {},
   "outputs": [],
   "source": [
    "drop_na_rows = titanic_survival.dropna(axis=0, subset=[\"name\"])\n",
    "drop_na_rows"
   ]
  },
  {
   "cell_type": "code",
   "execution_count": 13,
   "metadata": {},
   "outputs": [
    {
     "name": "stdout",
     "output_type": "stream",
     "text": [
      "le nombre de dimensions de titanic_survivor est (1310, 14)\n",
      "le nombre de dimensions de new_titanic_survivor est (1046, 14)\n"
     ]
    }
   ],
   "source": [
    "new_titanic_survival = titanic_survival.dropna(axis=0, subset=[\"age\", \"sex\"])\n",
    "print(f\"le nombre de dimensions de titanic_survivor est {titanic_survival.shape}\")\n",
    "print(f\"le nombre de dimensions de new_titanic_survivor est {new_titanic_survival.shape}\")\n"
   ]
  },
  {
   "cell_type": "markdown",
   "metadata": {},
   "source": [
    "### Iloc pour accéder à des lignes"
   ]
  },
  {
   "cell_type": "code",
   "execution_count": null,
   "metadata": {},
   "outputs": [],
   "source": [
    "# dataframe.loc[] ne convient pas sur des dataframes dont on a modifié la poition/classement \n",
    "# car loc se base sur un intitulé de colonne/ligne, alors qu'iloc se base sur la position\n",
    "first_ten_rows = new_titanic_survival.iloc[:10]\n",
    "row_position_fifth = new_titanic_survival.iloc[4]\n",
    "row_index_25 = new_titanic_survival.loc[25]\n"
   ]
  },
  {
   "cell_type": "code",
   "execution_count": null,
   "metadata": {},
   "outputs": [],
   "source": [
    "first_ten_rows"
   ]
  },
  {
   "cell_type": "code",
   "execution_count": null,
   "metadata": {},
   "outputs": [],
   "source": [
    "row_position_fifth"
   ]
  },
  {
   "cell_type": "code",
   "execution_count": null,
   "metadata": {},
   "outputs": [],
   "source": [
    "row_index_25"
   ]
  },
  {
   "cell_type": "markdown",
   "metadata": {},
   "source": [
    "### Les index de colonne"
   ]
  },
  {
   "cell_type": "code",
   "execution_count": null,
   "metadata": {},
   "outputs": [],
   "source": [
    "new_titanic_survival.iloc[0,2]"
   ]
  },
  {
   "cell_type": "code",
   "execution_count": null,
   "metadata": {},
   "outputs": [],
   "source": [
    "new_titanic_survival.iloc[:,:3] # les 3 premières colonnes"
   ]
  },
  {
   "cell_type": "code",
   "execution_count": null,
   "metadata": {},
   "outputs": [],
   "source": [
    "new_titanic_survival.loc[766, \"age\"]"
   ]
  },
  {
   "cell_type": "code",
   "execution_count": 18,
   "metadata": {},
   "outputs": [
    {
     "name": "stdout",
     "output_type": "stream",
     "text": [
      "29.0\n",
      "0.0\n",
      "   pclass  survived                                             name\n",
      "0     1.0       1.0                    Allen, Miss. Elisabeth Walton\n",
      "1     1.0       1.0                   Allison, Master. Hudson Trevor\n",
      "2     1.0       0.0                     Allison, Miss. Helen Loraine\n",
      "3     1.0       0.0             Allison, Mr. Hudson Joshua Creighton\n",
      "4     1.0       0.0  Allison, Mrs. Hudson J C (Bessie Waldo Daniels)\n"
     ]
    }
   ],
   "source": [
    "row_index_1100_age = new_titanic_survival.loc[1100, \"age\"]\n",
    "row_index_25_survived = new_titanic_survival.loc[25, \"survived\"]\n",
    "five_rows_three_cols = new_titanic_survival.iloc[:5,:3]\n",
    "print(row_index_1100_age)\n",
    "print(row_index_25_survived)\n",
    "print(five_rows_three_cols)"
   ]
  },
  {
   "cell_type": "markdown",
   "metadata": {},
   "source": [
    "### Réindexer les lignes d'un dataframe"
   ]
  },
  {
   "cell_type": "code",
   "execution_count": 19,
   "metadata": {},
   "outputs": [
    {
     "name": "stdout",
     "output_type": "stream",
     "text": [
      "   pclass  survived                                             name\n",
      "0     1.0       1.0                    Allen, Miss. Elisabeth Walton\n",
      "1     1.0       1.0                   Allison, Master. Hudson Trevor\n",
      "2     1.0       0.0                     Allison, Miss. Helen Loraine\n",
      "3     1.0       0.0             Allison, Mr. Hudson Joshua Creighton\n",
      "4     1.0       0.0  Allison, Mrs. Hudson J C (Bessie Waldo Daniels)\n"
     ]
    }
   ],
   "source": [
    "# dataFrame.reset_index(drop=True)\n",
    "# drop=True garde l'ancien indexage sur une nouvelle colonne 'index'\n",
    "titanic_reindexed = new_titanic_survival.reset_index(drop=True)\n",
    "print(titanic_reindexed.iloc[:5,:3])\n"
   ]
  },
  {
   "cell_type": "markdown",
   "metadata": {},
   "source": [
    "### Appliquer des fonctions sur un dataFrame"
   ]
  },
  {
   "cell_type": "code",
   "execution_count": 20,
   "metadata": {},
   "outputs": [],
   "source": [
    "# dataFrame.apply(nom_fonction)"
   ]
  },
  {
   "cell_type": "code",
   "execution_count": 40,
   "metadata": {
    "scrolled": true
   },
   "outputs": [
    {
     "name": "stdout",
     "output_type": "stream",
     "text": [
      "le nombre de valeurs manquantes pour chaque colonne est: pclass          1\n",
      "survived        1\n",
      "name            1\n",
      "sex             1\n",
      "age           264\n",
      "sibsp           1\n",
      "parch           1\n",
      "ticket          1\n",
      "fare            2\n",
      "cabin        1015\n",
      "embarked        3\n",
      "boat          824\n",
      "body         1189\n",
      "home.dest     565\n",
      "dtype: int64\n"
     ]
    }
   ],
   "source": [
    "def null_count(column):\n",
    "    serie_is_null = pd.isnull(column)\n",
    "    return(len(column[serie_is_null]))\n",
    "\n",
    "column_null_count = titanic_survival.apply(null_count)\n",
    "print(f\"le nombre de valeurs manquantes pour chaque colonne est: {column_null_count}\")"
   ]
  },
  {
   "cell_type": "markdown",
   "metadata": {},
   "source": [
    "### Appliquer une fonction à une ligne"
   ]
  },
  {
   "cell_type": "code",
   "execution_count": 35,
   "metadata": {},
   "outputs": [],
   "source": [
    "# dataFrame.apply(nom_fonction, axis=1)"
   ]
  },
  {
   "cell_type": "code",
   "execution_count": 38,
   "metadata": {},
   "outputs": [
    {
     "name": "stdout",
     "output_type": "stream",
     "text": [
      "0       False\n",
      "1        True\n",
      "2        True\n",
      "3       False\n",
      "4       False\n",
      "5       False\n",
      "6       False\n",
      "7       False\n",
      "8       False\n",
      "9       False\n",
      "10      False\n",
      "11      False\n",
      "12      False\n",
      "13      False\n",
      "14      False\n",
      "15      False\n",
      "16      False\n",
      "17      False\n",
      "18      False\n",
      "19      False\n",
      "20      False\n",
      "21      False\n",
      "22      False\n",
      "23      False\n",
      "24      False\n",
      "25      False\n",
      "26      False\n",
      "27      False\n",
      "28      False\n",
      "29      False\n",
      "        ...  \n",
      "1280    False\n",
      "1281    False\n",
      "1282    False\n",
      "1283    False\n",
      "1284    False\n",
      "1285    False\n",
      "1286    False\n",
      "1287    False\n",
      "1288    False\n",
      "1289    False\n",
      "1290    False\n",
      "1291    False\n",
      "1292    False\n",
      "1293    False\n",
      "1294    False\n",
      "1295    False\n",
      "1296    False\n",
      "1297    False\n",
      "1298    False\n",
      "1299    False\n",
      "1300     True\n",
      "1301    False\n",
      "1302    False\n",
      "1303    False\n",
      "1304     True\n",
      "1305    False\n",
      "1306    False\n",
      "1307    False\n",
      "1308    False\n",
      "1309    False\n",
      "Length: 1310, dtype: bool\n"
     ]
    }
   ],
   "source": [
    "def is_minor(row):\n",
    "    if row[\"age\"] < 18:\n",
    "        return True\n",
    "    else:\n",
    "        return False\n",
    "    \n",
    "minors = titanic_survival.apply(is_minor, axis=1)\n",
    "print(minors)"
   ]
  },
  {
   "cell_type": "code",
   "execution_count": 37,
   "metadata": {},
   "outputs": [
    {
     "data": {
      "text/plain": [
       "0       First Class\n",
       "1       First Class\n",
       "2       First Class\n",
       "3       First Class\n",
       "4       First Class\n",
       "5       First Class\n",
       "6       First Class\n",
       "7       First Class\n",
       "8       First Class\n",
       "9       First Class\n",
       "10      First Class\n",
       "11      First Class\n",
       "12      First Class\n",
       "13      First Class\n",
       "14      First Class\n",
       "15      First Class\n",
       "16      First Class\n",
       "17      First Class\n",
       "18      First Class\n",
       "19      First Class\n",
       "20      First Class\n",
       "21      First Class\n",
       "22      First Class\n",
       "23      First Class\n",
       "24      First Class\n",
       "25      First Class\n",
       "26      First Class\n",
       "27      First Class\n",
       "28      First Class\n",
       "29      First Class\n",
       "           ...     \n",
       "1280    Third Class\n",
       "1281    Third Class\n",
       "1282    Third Class\n",
       "1283    Third Class\n",
       "1284    Third Class\n",
       "1285    Third Class\n",
       "1286    Third Class\n",
       "1287    Third Class\n",
       "1288    Third Class\n",
       "1289    Third Class\n",
       "1290    Third Class\n",
       "1291    Third Class\n",
       "1292    Third Class\n",
       "1293    Third Class\n",
       "1294    Third Class\n",
       "1295    Third Class\n",
       "1296    Third Class\n",
       "1297    Third Class\n",
       "1298    Third Class\n",
       "1299    Third Class\n",
       "1300    Third Class\n",
       "1301    Third Class\n",
       "1302    Third Class\n",
       "1303    Third Class\n",
       "1304    Third Class\n",
       "1305    Third Class\n",
       "1306    Third Class\n",
       "1307    Third Class\n",
       "1308    Third Class\n",
       "1309         Unknow\n",
       "Length: 1310, dtype: object"
      ]
     },
     "execution_count": 37,
     "metadata": {},
     "output_type": "execute_result"
    }
   ],
   "source": [
    "def which_class(row):\n",
    "    pclass = row[\"pclass\"]\n",
    "    if pd.isnull(pclass):\n",
    "        return 'Unknow'\n",
    "    elif pclass == 1:\n",
    "        return \"First Class\"\n",
    "    elif pclass == 2:\n",
    "        return \"Second Class\"\n",
    "    else:\n",
    "        return \"Third Class\"\n",
    "    \n",
    "classes = titanic_survival.apply(which_class, axis=1)\n",
    "classes"
   ]
  },
  {
   "cell_type": "code",
   "execution_count": 39,
   "metadata": {},
   "outputs": [
    {
     "name": "stdout",
     "output_type": "stream",
     "text": [
      "0    adult\n",
      "1    minor\n",
      "2    minor\n",
      "3    adult\n",
      "4    adult\n",
      "5    adult\n",
      "6    adult\n",
      "7    adult\n",
      "8    adult\n",
      "9    adult\n",
      "dtype: object\n"
     ]
    }
   ],
   "source": [
    "def is_minor(row):\n",
    "    age = row[\"age\"]\n",
    "    if pd.isnull(age):\n",
    "        return \"unknow\"\n",
    "    if row[\"age\"] < 18:\n",
    "        return \"minor\"\n",
    "    else:\n",
    "        return \"adult\"\n",
    "    \n",
    "age_labels = titanic_survival.apply(is_minor, axis=1)\n",
    "print(age_labels.head(10))"
   ]
  },
  {
   "cell_type": "markdown",
   "metadata": {},
   "source": [
    "### Calculer le pourcentage de survie par groupe"
   ]
  },
  {
   "cell_type": "code",
   "execution_count": 46,
   "metadata": {},
   "outputs": [
    {
     "name": "stdout",
     "output_type": "stream",
     "text": [
      "            survived\n",
      "age_labels          \n",
      "adult       0.387892\n",
      "minor       0.525974\n",
      "unknow      0.277567\n"
     ]
    }
   ],
   "source": [
    "titanic_survival[\"age_labels\"] = age_labels\n",
    "# df.pivot_table(index=\"colonne à grouper\", values=\"colonne sur laquelle on applique la fonction\", aggfunc=\"par défaut mean()\")\n",
    "age_group_survival = titanic_survival.pivot_table(index=\"age_labels\", values=\"survived\")\n",
    "print(age_group_survival)"
   ]
  },
  {
   "cell_type": "code",
   "execution_count": null,
   "metadata": {},
   "outputs": [],
   "source": []
  }
 ],
 "metadata": {
  "kernelspec": {
   "display_name": "Python 3",
   "language": "python",
   "name": "python3"
  },
  "language_info": {
   "codemirror_mode": {
    "name": "ipython",
    "version": 3
   },
   "file_extension": ".py",
   "mimetype": "text/x-python",
   "name": "python",
   "nbconvert_exporter": "python",
   "pygments_lexer": "ipython3",
   "version": "3.6.8"
  }
 },
 "nbformat": 4,
 "nbformat_minor": 2
}
