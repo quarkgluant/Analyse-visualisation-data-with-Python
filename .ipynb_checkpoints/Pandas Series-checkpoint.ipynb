{
 "cells": [
  {
   "cell_type": "markdown",
   "metadata": {},
   "source": [
    "# Tout sur les Series avec Pandas "
   ]
  },
  {
   "cell_type": "markdown",
   "metadata": {},
   "source": [
    "### Les structures de données"
   ]
  },
  {
   "cell_type": "code",
   "execution_count": null,
   "metadata": {},
   "outputs": [],
   "source": [
    "# Series \n",
    "    # utilise les tableaux numpy\n",
    "    # peuvent être indexés par une str ou un entier\n",
    "    # peuvent contenir des objets de type différents\n",
    "    # utilisent la valeur NaN pour les valeurs manquantes\n",
    "# DataFrames (ensemble de Series)\n",
    "# Panels (ensemble de dataFrames)"
   ]
  },
  {
   "cell_type": "code",
   "execution_count": null,
   "metadata": {},
   "outputs": [],
   "source": [
    "# float\n",
    "# int\n",
    "# bool\n",
    "# datetime64[ns] date sans la timezone\n",
    "# datetime64[ns, tz]  date avec la timezone\n",
    "# timedelta[ns] différence entre deux dates/horaires\n",
    "# category (valeurs de catégories)\n",
    "# object (valeur de chaîne de caractères)"
   ]
  },
  {
   "cell_type": "code",
   "execution_count": 2,
   "metadata": {},
   "outputs": [
    {
     "data": {
      "text/html": [
       "<div>\n",
       "<style scoped>\n",
       "    .dataframe tbody tr th:only-of-type {\n",
       "        vertical-align: middle;\n",
       "    }\n",
       "\n",
       "    .dataframe tbody tr th {\n",
       "        vertical-align: top;\n",
       "    }\n",
       "\n",
       "    .dataframe thead th {\n",
       "        text-align: right;\n",
       "    }\n",
       "</style>\n",
       "<table border=\"1\" class=\"dataframe\">\n",
       "  <thead>\n",
       "    <tr style=\"text-align: right;\">\n",
       "      <th></th>\n",
       "      <th>FILM</th>\n",
       "      <th>RottenTomatoes</th>\n",
       "      <th>RottenTomatoes_User</th>\n",
       "      <th>Metacritic</th>\n",
       "      <th>Metacritic_User</th>\n",
       "      <th>IMDB</th>\n",
       "      <th>Fandango_Stars</th>\n",
       "      <th>Fandango_Ratingvalue</th>\n",
       "      <th>RT_norm</th>\n",
       "      <th>RT_user_norm</th>\n",
       "      <th>...</th>\n",
       "      <th>IMDB_norm</th>\n",
       "      <th>RT_norm_round</th>\n",
       "      <th>RT_user_norm_round</th>\n",
       "      <th>Metacritic_norm_round</th>\n",
       "      <th>Metacritic_user_norm_round</th>\n",
       "      <th>IMDB_norm_round</th>\n",
       "      <th>Metacritic_user_vote_count</th>\n",
       "      <th>IMDB_user_vote_count</th>\n",
       "      <th>Fandango_votes</th>\n",
       "      <th>Fandango_Difference</th>\n",
       "    </tr>\n",
       "  </thead>\n",
       "  <tbody>\n",
       "    <tr>\n",
       "      <th>0</th>\n",
       "      <td>Avengers: Age of Ultron (2015)</td>\n",
       "      <td>74</td>\n",
       "      <td>86</td>\n",
       "      <td>66</td>\n",
       "      <td>7.1</td>\n",
       "      <td>7.8</td>\n",
       "      <td>5.0</td>\n",
       "      <td>4.5</td>\n",
       "      <td>3.70</td>\n",
       "      <td>4.3</td>\n",
       "      <td>...</td>\n",
       "      <td>3.90</td>\n",
       "      <td>3.5</td>\n",
       "      <td>4.5</td>\n",
       "      <td>3.5</td>\n",
       "      <td>3.5</td>\n",
       "      <td>4.0</td>\n",
       "      <td>1330</td>\n",
       "      <td>271107</td>\n",
       "      <td>14846</td>\n",
       "      <td>0.5</td>\n",
       "    </tr>\n",
       "    <tr>\n",
       "      <th>1</th>\n",
       "      <td>Cinderella (2015)</td>\n",
       "      <td>85</td>\n",
       "      <td>80</td>\n",
       "      <td>67</td>\n",
       "      <td>7.5</td>\n",
       "      <td>7.1</td>\n",
       "      <td>5.0</td>\n",
       "      <td>4.5</td>\n",
       "      <td>4.25</td>\n",
       "      <td>4.0</td>\n",
       "      <td>...</td>\n",
       "      <td>3.55</td>\n",
       "      <td>4.5</td>\n",
       "      <td>4.0</td>\n",
       "      <td>3.5</td>\n",
       "      <td>4.0</td>\n",
       "      <td>3.5</td>\n",
       "      <td>249</td>\n",
       "      <td>65709</td>\n",
       "      <td>12640</td>\n",
       "      <td>0.5</td>\n",
       "    </tr>\n",
       "  </tbody>\n",
       "</table>\n",
       "<p>2 rows × 22 columns</p>\n",
       "</div>"
      ],
      "text/plain": [
       "                             FILM  RottenTomatoes  RottenTomatoes_User  \\\n",
       "0  Avengers: Age of Ultron (2015)              74                   86   \n",
       "1               Cinderella (2015)              85                   80   \n",
       "\n",
       "   Metacritic  Metacritic_User  IMDB  Fandango_Stars  Fandango_Ratingvalue  \\\n",
       "0          66              7.1   7.8             5.0                   4.5   \n",
       "1          67              7.5   7.1             5.0                   4.5   \n",
       "\n",
       "   RT_norm  RT_user_norm         ...           IMDB_norm  RT_norm_round  \\\n",
       "0     3.70           4.3         ...                3.90            3.5   \n",
       "1     4.25           4.0         ...                3.55            4.5   \n",
       "\n",
       "   RT_user_norm_round  Metacritic_norm_round  Metacritic_user_norm_round  \\\n",
       "0                 4.5                    3.5                         3.5   \n",
       "1                 4.0                    3.5                         4.0   \n",
       "\n",
       "   IMDB_norm_round  Metacritic_user_vote_count  IMDB_user_vote_count  \\\n",
       "0              4.0                        1330                271107   \n",
       "1              3.5                         249                 65709   \n",
       "\n",
       "   Fandango_votes  Fandango_Difference  \n",
       "0           14846                  0.5  \n",
       "1           12640                  0.5  \n",
       "\n",
       "[2 rows x 22 columns]"
      ]
     },
     "execution_count": 2,
     "metadata": {},
     "output_type": "execute_result"
    }
   ],
   "source": [
    "import pandas as pd\n",
    "fandango = pd.read_csv(\"fandango-score-comparison.csv\")\n",
    "fandango.head(2)"
   ]
  },
  {
   "cell_type": "markdown",
   "metadata": {},
   "source": [
    "### Indexage avec des entiers"
   ]
  },
  {
   "cell_type": "code",
   "execution_count": 3,
   "metadata": {},
   "outputs": [
    {
     "data": {
      "text/plain": [
       "0    Avengers: Age of Ultron (2015)\n",
       "1                 Cinderella (2015)\n",
       "2                    Ant-Man (2015)\n",
       "3            Do You Believe? (2015)\n",
       "4     Hot Tub Time Machine 2 (2015)\n",
       "Name: FILM, dtype: object"
      ]
     },
     "execution_count": 3,
     "metadata": {},
     "output_type": "execute_result"
    }
   ],
   "source": [
    "series_film = fandango[\"FILM\"]\n",
    "series_film.head(5)"
   ]
  },
  {
   "cell_type": "code",
   "execution_count": 4,
   "metadata": {},
   "outputs": [
    {
     "data": {
      "text/plain": [
       "0    74\n",
       "1    85\n",
       "2    80\n",
       "3    18\n",
       "4    14\n",
       "Name: RottenTomatoes, dtype: int64"
      ]
     },
     "execution_count": 4,
     "metadata": {},
     "output_type": "execute_result"
    }
   ],
   "source": [
    "series_rt = fandango[\"RottenTomatoes\"]\n",
    "series_rt.head()"
   ]
  },
  {
   "cell_type": "markdown",
   "metadata": {},
   "source": [
    "### Personnaliser son indexage"
   ]
  },
  {
   "cell_type": "code",
   "execution_count": 5,
   "metadata": {},
   "outputs": [
    {
     "data": {
      "text/plain": [
       "'The Water Diviner (2015)'"
      ]
     },
     "execution_count": 5,
     "metadata": {},
     "output_type": "execute_result"
    }
   ],
   "source": [
    "series_film[5]"
   ]
  },
  {
   "cell_type": "code",
   "execution_count": 6,
   "metadata": {},
   "outputs": [
    {
     "data": {
      "text/plain": [
       "63"
      ]
     },
     "execution_count": 6,
     "metadata": {},
     "output_type": "execute_result"
    }
   ],
   "source": [
    "series_rt[5]"
   ]
  },
  {
   "cell_type": "code",
   "execution_count": 17,
   "metadata": {},
   "outputs": [
    {
     "data": {
      "text/plain": [
       "Avengers: Age of Ultron (2015)    74\n",
       "Cinderella (2015)                 85\n",
       "Ant-Man (2015)                    80\n",
       "Do You Believe? (2015)            18\n",
       "Hot Tub Time Machine 2 (2015)     14\n",
       "dtype: int64"
      ]
     },
     "execution_count": 17,
     "metadata": {},
     "output_type": "execute_result"
    }
   ],
   "source": [
    "from pandas import Series\n",
    "film_names = series_film.values\n",
    "rt_scores = series_rt.values\n",
    "serie_custom = Series(data=rt_scores, index=film_names)\n",
    "# Series(data, index) ici data = notes, index = nom du film\n",
    "serie_custom.head()"
   ]
  },
  {
   "cell_type": "code",
   "execution_count": 18,
   "metadata": {},
   "outputs": [
    {
     "name": "stderr",
     "output_type": "stream",
     "text": [
      "/home/quark/anaconda3/lib/python3.6/site-packages/pandas/core/series.py:851: FutureWarning: \n",
      "Passing list-likes to .loc or [] with any missing label will raise\n",
      "KeyError in the future, you can use .reindex() as an alternative.\n",
      "\n",
      "See the documentation here:\n",
      "https://pandas.pydata.org/pandas-docs/stable/indexing.html#deprecate-loc-reindex-listlike\n",
      "  return self.loc[key]\n"
     ]
    },
    {
     "data": {
      "text/plain": [
       "Minions (2015)     54.0\n",
       "Leviatan (2014)     NaN\n",
       "dtype: float64"
      ]
     },
     "execution_count": 18,
     "metadata": {},
     "output_type": "execute_result"
    }
   ],
   "source": [
    "serie_custom[['Minions (2015)', 'Leviatan (2014)']]"
   ]
  },
  {
   "cell_type": "code",
   "execution_count": 19,
   "metadata": {},
   "outputs": [
    {
     "data": {
      "text/plain": [
       "The Water Diviner (2015)             63\n",
       "Irrational Man (2015)                42\n",
       "Top Five (2014)                      86\n",
       "Shaun the Sheep Movie (2015)         99\n",
       "Love & Mercy (2015)                  89\n",
       "Far From The Madding Crowd (2015)    84\n",
       "dtype: int64"
      ]
     },
     "execution_count": 19,
     "metadata": {},
     "output_type": "execute_result"
    }
   ],
   "source": [
    "serie_custom[5:11]"
   ]
  },
  {
   "cell_type": "markdown",
   "metadata": {},
   "source": [
    "### Reindexer un objet Series"
   ]
  },
  {
   "cell_type": "code",
   "execution_count": 38,
   "metadata": {},
   "outputs": [
    {
     "data": {
      "text/plain": [
       "'71 (2015)                        97\n",
       "5 Flights Up (2015)               52\n",
       "A Little Chaos (2015)             40\n",
       "A Most Violent Year (2014)        90\n",
       "About Elly (2015)                 97\n",
       "Aloha (2015)                      19\n",
       "American Sniper (2015)            72\n",
       "American Ultra (2015)             46\n",
       "Amy (2015)                        97\n",
       "Annie (2014)                      27\n",
       "Ant-Man (2015)                    80\n",
       "Avengers: Age of Ultron (2015)    74\n",
       "Big Eyes (2014)                   72\n",
       "Birdman (2014)                    92\n",
       "Black Sea (2015)                  82\n",
       "dtype: int64"
      ]
     },
     "execution_count": 38,
     "metadata": {},
     "output_type": "execute_result"
    }
   ],
   "source": [
    "# serie.reindex(index=)\n",
    "# retourner une liste d'index actuels (avec .tolist() ou .index)\n",
    "# tri par order alpha avec\n",
    "# sorted()\n",
    "\n",
    "original_index = serie_custom.index\n",
    "sorted_index = sorted(original_index)\n",
    "sorted_by_index = serie_custom.reindex(index=sorted_index)\n",
    "sorted_by_index[:15]"
   ]
  },
  {
   "cell_type": "code",
   "execution_count": 23,
   "metadata": {},
   "outputs": [
    {
     "data": {
      "text/plain": [
       "(146,)"
      ]
     },
     "execution_count": 23,
     "metadata": {},
     "output_type": "execute_result"
    }
   ],
   "source": [
    "sorted_by_index.shape"
   ]
  },
  {
   "cell_type": "markdown",
   "metadata": {},
   "source": [
    "### Trier un objet Series"
   ]
  },
  {
   "cell_type": "code",
   "execution_count": 24,
   "metadata": {},
   "outputs": [
    {
     "name": "stdout",
     "output_type": "stream",
     "text": [
      "'71 (2015)                    97\n",
      "5 Flights Up (2015)           52\n",
      "A Little Chaos (2015)         40\n",
      "A Most Violent Year (2014)    90\n",
      "About Elly (2015)             97\n",
      "Aloha (2015)                  19\n",
      "American Sniper (2015)        72\n",
      "American Ultra (2015)         46\n",
      "Amy (2015)                    97\n",
      "Annie (2014)                  27\n",
      "dtype: int64 Paul Blart: Mall Cop 2 (2015)     5\n",
      "Hitman: Agent 47 (2015)           7\n",
      "Hot Pursuit (2015)                8\n",
      "Fantastic Four (2015)             9\n",
      "Taken 3 (2015)                    9\n",
      "The Boy Next Door (2015)         10\n",
      "The Loft (2015)                  11\n",
      "Unfinished Business (2015)       11\n",
      "Mortdecai (2015)                 12\n",
      "Seventh Son (2015)               12\n",
      "dtype: int64\n"
     ]
    }
   ],
   "source": [
    "# Series.sort_index()\n",
    "\n",
    "# Series.sort_values()\n",
    "\n",
    "sc2 = serie_custom.sort_index()\n",
    "sc3 = serie_custom.sort_values()\n",
    "print(sc2[:10], sc3[:10])"
   ]
  },
  {
   "cell_type": "markdown",
   "metadata": {},
   "source": [
    "### Transformation de colonnes"
   ]
  },
  {
   "cell_type": "code",
   "execution_count": 28,
   "metadata": {},
   "outputs": [
    {
     "data": {
      "text/plain": [
       "Avengers: Age of Ultron (2015)    7.4\n",
       "Cinderella (2015)                 8.5\n",
       "Ant-Man (2015)                    8.0\n",
       "Do You Believe? (2015)            1.8\n",
       "Hot Tub Time Machine 2 (2015)     1.4\n",
       "The Water Diviner (2015)          6.3\n",
       "Irrational Man (2015)             4.2\n",
       "Top Five (2014)                   8.6\n",
       "Shaun the Sheep Movie (2015)      9.9\n",
       "Love & Mercy (2015)               8.9\n",
       "dtype: float64"
      ]
     },
     "execution_count": 28,
     "metadata": {},
     "output_type": "execute_result"
    }
   ],
   "source": [
    "(serie_custom / 10)[:10]"
   ]
  },
  {
   "cell_type": "code",
   "execution_count": 27,
   "metadata": {},
   "outputs": [
    {
     "data": {
      "text/plain": [
       "Avengers: Age of Ultron (2015)    148\n",
       "Cinderella (2015)                 170\n",
       "Ant-Man (2015)                    160\n",
       "Do You Believe? (2015)             36\n",
       "Hot Tub Time Machine 2 (2015)      28\n",
       "The Water Diviner (2015)          126\n",
       "Irrational Man (2015)              84\n",
       "Top Five (2014)                   172\n",
       "Shaun the Sheep Movie (2015)      198\n",
       "Love & Mercy (2015)               178\n",
       "dtype: int64"
      ]
     },
     "execution_count": 27,
     "metadata": {},
     "output_type": "execute_result"
    }
   ],
   "source": [
    "import numpy as np\n",
    "# additionner chaque valeur avec une autre\n",
    "np.add(serie_custom, serie_custom)[:10]"
   ]
  },
  {
   "cell_type": "code",
   "execution_count": 29,
   "metadata": {},
   "outputs": [
    {
     "data": {
      "text/plain": [
       "Avengers: Age of Ultron (2015)   -0.985146\n",
       "Cinderella (2015)                -0.176076\n",
       "Ant-Man (2015)                   -0.993889\n",
       "Do You Believe? (2015)           -0.750987\n",
       "Hot Tub Time Machine 2 (2015)     0.990607\n",
       "The Water Diviner (2015)          0.167356\n",
       "Irrational Man (2015)            -0.916522\n",
       "Top Five (2014)                  -0.923458\n",
       "Shaun the Sheep Movie (2015)     -0.999207\n",
       "Love & Mercy (2015)               0.860069\n",
       "dtype: float64"
      ]
     },
     "execution_count": 29,
     "metadata": {},
     "output_type": "execute_result"
    }
   ],
   "source": [
    "# appliquer la fonction sinus\n",
    "np.sin(serie_custom)[:5]"
   ]
  },
  {
   "cell_type": "code",
   "execution_count": 30,
   "metadata": {},
   "outputs": [
    {
     "data": {
      "text/plain": [
       "100"
      ]
     },
     "execution_count": 30,
     "metadata": {},
     "output_type": "execute_result"
    }
   ],
   "source": [
    "# retourner la valeur max (renvoie une valeur unique, NON PAS un objet Series)\n",
    "np.max(serie_custom)"
   ]
  },
  {
   "cell_type": "code",
   "execution_count": 32,
   "metadata": {},
   "outputs": [
    {
     "data": {
      "text/plain": [
       "Avengers: Age of Ultron (2015)    3.70\n",
       "Cinderella (2015)                 4.25\n",
       "Ant-Man (2015)                    4.00\n",
       "Do You Believe? (2015)            0.90\n",
       "Hot Tub Time Machine 2 (2015)     0.70\n",
       "The Water Diviner (2015)          3.15\n",
       "Irrational Man (2015)             2.10\n",
       "Top Five (2014)                   4.30\n",
       "Shaun the Sheep Movie (2015)      4.95\n",
       "Love & Mercy (2015)               4.45\n",
       "dtype: float64"
      ]
     },
     "execution_count": 32,
     "metadata": {},
     "output_type": "execute_result"
    }
   ],
   "source": [
    "series_normalized = serie_custom / 20\n",
    "series_normalized[:10]"
   ]
  },
  {
   "cell_type": "markdown",
   "metadata": {},
   "source": [
    "### Comparer et filtrer"
   ]
  },
  {
   "cell_type": "code",
   "execution_count": 35,
   "metadata": {},
   "outputs": [
    {
     "data": {
      "text/plain": [
       "Avengers: Age of Ultron (2015)       74\n",
       "Cinderella (2015)                    85\n",
       "Ant-Man (2015)                       80\n",
       "The Water Diviner (2015)             63\n",
       "Top Five (2014)                      86\n",
       "Shaun the Sheep Movie (2015)         99\n",
       "Love & Mercy (2015)                  89\n",
       "Far From The Madding Crowd (2015)    84\n",
       "Black Sea (2015)                     82\n",
       "Leviathan (2014)                     99\n",
       "dtype: int64"
      ]
     },
     "execution_count": 35,
     "metadata": {},
     "output_type": "execute_result"
    }
   ],
   "source": [
    "series_greater_than_50 = serie_custom[serie_custom > 50]\n",
    "series_greater_than_50[:10]"
   ]
  },
  {
   "cell_type": "code",
   "execution_count": 37,
   "metadata": {},
   "outputs": [
    {
     "data": {
      "text/plain": [
       "Avengers: Age of Ultron (2015)    74\n",
       "The Water Diviner (2015)          63\n",
       "Unbroken (2014)                   51\n",
       "Southpaw (2015)                   59\n",
       "Insidious: Chapter 3 (2015)       59\n",
       "The Man From U.N.C.L.E. (2015)    68\n",
       "Run All Night (2015)              60\n",
       "5 Flights Up (2015)               52\n",
       "Welcome to Me (2015)              71\n",
       "Saint Laurent (2015)              51\n",
       "dtype: int64"
      ]
     },
     "execution_count": 37,
     "metadata": {},
     "output_type": "execute_result"
    }
   ],
   "source": [
    "# & et/ou | et/ou []\n",
    "criteria_one = serie_custom > 50\n",
    "criteria_two = serie_custom < 75\n",
    "both_criteria = serie_custom[criteria_one & criteria_two]\n",
    "both_criteria[:10]"
   ]
  },
  {
   "cell_type": "markdown",
   "metadata": {},
   "source": [
    "### Alignement des données"
   ]
  },
  {
   "cell_type": "code",
   "execution_count": 58,
   "metadata": {},
   "outputs": [
    {
     "data": {
      "text/plain": [
       "FILM\n",
       "Avengers: Age of Ultron (2015)                    80.0\n",
       "Cinderella (2015)                                 82.5\n",
       "Ant-Man (2015)                                    85.0\n",
       "Do You Believe? (2015)                            51.0\n",
       "Hot Tub Time Machine 2 (2015)                     21.0\n",
       "The Water Diviner (2015)                          62.5\n",
       "Irrational Man (2015)                             47.5\n",
       "Top Five (2014)                                   75.0\n",
       "Shaun the Sheep Movie (2015)                      90.5\n",
       "Love & Mercy (2015)                               88.0\n",
       "Far From The Madding Crowd (2015)                 80.5\n",
       "Black Sea (2015)                                  71.0\n",
       "Leviathan (2014)                                  89.0\n",
       "Unbroken (2014)                                   60.5\n",
       "The Imitation Game (2014)                         91.0\n",
       "Taken 3 (2015)                                    27.5\n",
       "Ted 2 (2015)                                      52.0\n",
       "Southpaw (2015)                                   69.5\n",
       "Night at the Museum: Secret of the Tomb (2014)    54.0\n",
       "Pixels (2015)                                     35.5\n",
       "McFarland, USA (2015)                             84.0\n",
       "Insidious: Chapter 3 (2015)                       57.5\n",
       "The Man From U.N.C.L.E. (2015)                    74.0\n",
       "Run All Night (2015)                              59.5\n",
       "Trainwreck (2015)                                 79.5\n",
       "Selma (2014)                                      92.5\n",
       "Ex Machina (2015)                                 89.0\n",
       "Still Alice (2015)                                86.5\n",
       "Wild Tales (2014)                                 94.0\n",
       "The End of the Tour (2015)                        90.5\n",
       "                                                  ... \n",
       "Clouds of Sils Maria (2015)                       78.0\n",
       "Testament of Youth (2015)                         80.0\n",
       "Infinitely Polar Bear (2015)                      78.0\n",
       "Phoenix (2015)                                    90.0\n",
       "The Wolfpack (2015)                               78.5\n",
       "The Stanford Prison Experiment (2015)             85.5\n",
       "Tangerine (2015)                                  90.5\n",
       "Magic Mike XXL (2015)                             63.0\n",
       "Home (2015)                                       55.0\n",
       "The Wedding Ringer (2015)                         46.5\n",
       "Woman in Gold (2015)                              66.5\n",
       "The Last Five Years (2015)                        60.0\n",
       "Mission: Impossible â€“ Rogue Nation (2015)       91.0\n",
       "Amy (2015)                                        94.0\n",
       "Jurassic World (2015)                             76.0\n",
       "Minions (2015)                                    53.0\n",
       "Max (2015)                                        54.0\n",
       "Paul Blart: Mall Cop 2 (2015)                     20.5\n",
       "The Longest Ride (2015)                           52.0\n",
       "The Lazarus Effect (2015)                         18.5\n",
       "The Woman In Black 2 Angel of Death (2015)        23.5\n",
       "Danny Collins (2015)                              76.0\n",
       "Spare Parts (2015)                                67.5\n",
       "Serena (2015)                                     21.5\n",
       "Inside Out (2015)                                 94.0\n",
       "Mr. Holmes (2015)                                 82.5\n",
       "'71 (2015)                                        89.5\n",
       "Two Days, One Night (2014)                        87.5\n",
       "Gett: The Trial of Viviane Amsalem (2015)         90.5\n",
       "Kumiko, The Treasure Hunter (2015)                75.0\n",
       "Length: 146, dtype: float64"
      ]
     },
     "execution_count": 58,
     "metadata": {},
     "output_type": "execute_result"
    }
   ],
   "source": [
    "rt_critics = Series(fandango[\"RottenTomatoes\"].values, index=fandango[\"FILM\"])\n",
    "rt_users = Series(fandango[\"RottenTomatoes_User\"].values, index=fandango[\"FILM\"])\n",
    "rt_mean = (rt_critics + rt_users) / 2\n",
    "rt_mean"
   ]
  },
  {
   "cell_type": "code",
   "execution_count": null,
   "metadata": {},
   "outputs": [],
   "source": []
  }
 ],
 "metadata": {
  "kernelspec": {
   "display_name": "Python 3",
   "language": "python",
   "name": "python3"
  },
  "language_info": {
   "codemirror_mode": {
    "name": "ipython",
    "version": 3
   },
   "file_extension": ".py",
   "mimetype": "text/x-python",
   "name": "python",
   "nbconvert_exporter": "python",
   "pygments_lexer": "ipython3",
   "version": "3.6.8"
  }
 },
 "nbformat": 4,
 "nbformat_minor": 2
}
