{
 "cells": [
  {
   "cell_type": "markdown",
   "metadata": {},
   "source": [
    "## Analyse de données avec Numpy"
   ]
  },
  {
   "cell_type": "markdown",
   "metadata": {},
   "source": [
    "### Objectif : déterminer le pays consommant le plus d'alcool par habitant"
   ]
  },
  {
   "cell_type": "code",
   "execution_count": 2,
   "metadata": {},
   "outputs": [
    {
     "data": {
      "text/plain": [
       "array([['1986', 'Western Pacific', 'Viet Nam', 'Wine', '0'],\n",
       "       ['1986', 'Americas', 'Uruguay', 'Other', '0.5'],\n",
       "       ['1985', 'Africa', \"Cte d'Ivoire\", 'Wine', '1.62'],\n",
       "       ...,\n",
       "       ['1986', 'Europe', 'Switzerland', 'Spirits', '2.54'],\n",
       "       ['1987', 'Western Pacific', 'Papua New Guinea', 'Other', '0'],\n",
       "       ['1986', 'Africa', 'Swaziland', 'Other', '5.15']], dtype='<U75')"
      ]
     },
     "execution_count": 2,
     "metadata": {},
     "output_type": "execute_result"
    }
   ],
   "source": [
    "import numpy as np\n",
    "\n",
    "world_alcohol = np.genfromtxt(\"world-alcohol.csv\", delimiter=\",\", dtype=\"U75\", skip_header=1)\n",
    "world_alcohol"
   ]
  },
  {
   "cell_type": "markdown",
   "metadata": {},
   "source": [
    "### Effectuer des comparaisons"
   ]
  },
  {
   "cell_type": "code",
   "execution_count": 3,
   "metadata": {},
   "outputs": [],
   "source": [
    "vector = np.array([5, 10, 15, 20])"
   ]
  },
  {
   "cell_type": "code",
   "execution_count": 4,
   "metadata": {},
   "outputs": [
    {
     "data": {
      "text/plain": [
       "array([False,  True, False, False])"
      ]
     },
     "execution_count": 4,
     "metadata": {},
     "output_type": "execute_result"
    }
   ],
   "source": [
    "vector == 10"
   ]
  },
  {
   "cell_type": "code",
   "execution_count": 5,
   "metadata": {},
   "outputs": [],
   "source": [
    "matrix = np.array([[2, 5, 15], [20, 50, 30], [34, 99, 45]])"
   ]
  },
  {
   "cell_type": "code",
   "execution_count": 7,
   "metadata": {},
   "outputs": [
    {
     "data": {
      "text/plain": [
       "array([[False, False, False],\n",
       "       [ True, False, False],\n",
       "       [False, False, False]])"
      ]
     },
     "execution_count": 7,
     "metadata": {},
     "output_type": "execute_result"
    }
   ],
   "source": [
    "matrix == 20"
   ]
  },
  {
   "cell_type": "code",
   "execution_count": 8,
   "metadata": {},
   "outputs": [
    {
     "data": {
      "text/plain": [
       "array([[False],\n",
       "       [False],\n",
       "       [False],\n",
       "       ...,\n",
       "       [False],\n",
       "       [False],\n",
       "       [False]])"
      ]
     },
     "execution_count": 8,
     "metadata": {},
     "output_type": "execute_result"
    }
   ],
   "source": [
    "countries_canada = \"Canada\" == world_alcohol[:,2:3]\n",
    "countries_canada"
   ]
  },
  {
   "cell_type": "code",
   "execution_count": 9,
   "metadata": {},
   "outputs": [
    {
     "data": {
      "text/plain": [
       "array([[False],\n",
       "       [False],\n",
       "       [False],\n",
       "       ...,\n",
       "       [False],\n",
       "       [False],\n",
       "       [False]])"
      ]
     },
     "execution_count": 9,
     "metadata": {},
     "output_type": "execute_result"
    }
   ],
   "source": [
    "years_1984 = \"1984\" == world_alcohol[:,:1]\n",
    "years_1984"
   ]
  },
  {
   "cell_type": "code",
   "execution_count": 11,
   "metadata": {},
   "outputs": [
    {
     "name": "stdout",
     "output_type": "stream",
     "text": [
      "trouvé à la ligne 10\n",
      "trouvé à la ligne 14\n",
      "trouvé à la ligne 17\n",
      "trouvé à la ligne 19\n",
      "trouvé à la ligne 20\n",
      "trouvé à la ligne 23\n",
      "trouvé à la ligne 24\n",
      "trouvé à la ligne 26\n",
      "trouvé à la ligne 28\n",
      "trouvé à la ligne 43\n",
      "trouvé à la ligne 44\n",
      "trouvé à la ligne 54\n",
      "trouvé à la ligne 55\n",
      "trouvé à la ligne 59\n",
      "trouvé à la ligne 62\n",
      "trouvé à la ligne 96\n",
      "trouvé à la ligne 98\n",
      "trouvé à la ligne 99\n",
      "trouvé à la ligne 110\n",
      "trouvé à la ligne 118\n",
      "trouvé à la ligne 128\n",
      "trouvé à la ligne 129\n",
      "trouvé à la ligne 133\n",
      "trouvé à la ligne 136\n",
      "trouvé à la ligne 147\n",
      "trouvé à la ligne 161\n",
      "trouvé à la ligne 164\n",
      "trouvé à la ligne 166\n",
      "trouvé à la ligne 173\n",
      "trouvé à la ligne 175\n",
      "trouvé à la ligne 179\n",
      "trouvé à la ligne 182\n",
      "trouvé à la ligne 206\n",
      "trouvé à la ligne 215\n",
      "trouvé à la ligne 223\n",
      "trouvé à la ligne 241\n",
      "trouvé à la ligne 246\n",
      "trouvé à la ligne 254\n",
      "trouvé à la ligne 261\n",
      "trouvé à la ligne 263\n",
      "trouvé à la ligne 268\n",
      "trouvé à la ligne 270\n",
      "trouvé à la ligne 277\n",
      "trouvé à la ligne 278\n",
      "trouvé à la ligne 284\n",
      "trouvé à la ligne 297\n",
      "trouvé à la ligne 301\n",
      "trouvé à la ligne 303\n",
      "trouvé à la ligne 306\n",
      "trouvé à la ligne 308\n",
      "trouvé à la ligne 309\n",
      "trouvé à la ligne 311\n",
      "trouvé à la ligne 313\n",
      "trouvé à la ligne 314\n",
      "trouvé à la ligne 317\n",
      "trouvé à la ligne 327\n",
      "trouvé à la ligne 353\n",
      "trouvé à la ligne 357\n",
      "trouvé à la ligne 360\n",
      "trouvé à la ligne 362\n",
      "trouvé à la ligne 366\n",
      "trouvé à la ligne 368\n",
      "trouvé à la ligne 373\n",
      "trouvé à la ligne 376\n",
      "trouvé à la ligne 382\n",
      "trouvé à la ligne 387\n",
      "trouvé à la ligne 388\n",
      "trouvé à la ligne 389\n",
      "trouvé à la ligne 390\n",
      "trouvé à la ligne 393\n",
      "trouvé à la ligne 401\n",
      "trouvé à la ligne 408\n",
      "trouvé à la ligne 414\n",
      "trouvé à la ligne 427\n",
      "trouvé à la ligne 435\n",
      "trouvé à la ligne 445\n",
      "trouvé à la ligne 446\n",
      "trouvé à la ligne 458\n",
      "trouvé à la ligne 461\n",
      "trouvé à la ligne 462\n",
      "trouvé à la ligne 464\n",
      "trouvé à la ligne 467\n",
      "trouvé à la ligne 468\n",
      "trouvé à la ligne 476\n",
      "trouvé à la ligne 484\n",
      "trouvé à la ligne 485\n",
      "trouvé à la ligne 489\n",
      "trouvé à la ligne 490\n",
      "trouvé à la ligne 491\n",
      "trouvé à la ligne 497\n",
      "trouvé à la ligne 505\n",
      "trouvé à la ligne 519\n",
      "trouvé à la ligne 522\n",
      "trouvé à la ligne 532\n",
      "trouvé à la ligne 534\n",
      "trouvé à la ligne 535\n",
      "trouvé à la ligne 540\n",
      "trouvé à la ligne 554\n",
      "trouvé à la ligne 563\n",
      "trouvé à la ligne 565\n",
      "trouvé à la ligne 571\n",
      "trouvé à la ligne 573\n",
      "trouvé à la ligne 589\n",
      "trouvé à la ligne 610\n",
      "trouvé à la ligne 617\n",
      "trouvé à la ligne 618\n",
      "trouvé à la ligne 620\n",
      "trouvé à la ligne 622\n",
      "trouvé à la ligne 623\n",
      "trouvé à la ligne 634\n",
      "trouvé à la ligne 640\n",
      "trouvé à la ligne 643\n",
      "trouvé à la ligne 646\n",
      "trouvé à la ligne 654\n",
      "trouvé à la ligne 655\n",
      "trouvé à la ligne 657\n",
      "trouvé à la ligne 658\n",
      "trouvé à la ligne 669\n",
      "trouvé à la ligne 676\n",
      "trouvé à la ligne 680\n",
      "trouvé à la ligne 685\n",
      "trouvé à la ligne 691\n",
      "trouvé à la ligne 692\n",
      "trouvé à la ligne 693\n",
      "trouvé à la ligne 697\n",
      "trouvé à la ligne 699\n",
      "trouvé à la ligne 700\n",
      "trouvé à la ligne 704\n",
      "trouvé à la ligne 711\n",
      "trouvé à la ligne 714\n",
      "trouvé à la ligne 716\n",
      "trouvé à la ligne 717\n",
      "trouvé à la ligne 725\n",
      "trouvé à la ligne 726\n",
      "trouvé à la ligne 737\n",
      "trouvé à la ligne 738\n",
      "trouvé à la ligne 743\n",
      "trouvé à la ligne 746\n",
      "trouvé à la ligne 748\n",
      "trouvé à la ligne 761\n",
      "trouvé à la ligne 762\n",
      "trouvé à la ligne 766\n",
      "trouvé à la ligne 769\n",
      "trouvé à la ligne 770\n",
      "trouvé à la ligne 772\n",
      "trouvé à la ligne 773\n",
      "trouvé à la ligne 774\n",
      "trouvé à la ligne 775\n",
      "trouvé à la ligne 777\n",
      "trouvé à la ligne 780\n",
      "trouvé à la ligne 786\n",
      "trouvé à la ligne 795\n",
      "trouvé à la ligne 802\n",
      "trouvé à la ligne 810\n",
      "trouvé à la ligne 811\n",
      "trouvé à la ligne 826\n",
      "trouvé à la ligne 839\n",
      "trouvé à la ligne 842\n",
      "trouvé à la ligne 844\n",
      "trouvé à la ligne 846\n",
      "trouvé à la ligne 848\n",
      "trouvé à la ligne 849\n",
      "trouvé à la ligne 852\n",
      "trouvé à la ligne 859\n",
      "trouvé à la ligne 860\n",
      "trouvé à la ligne 867\n",
      "trouvé à la ligne 881\n",
      "trouvé à la ligne 882\n",
      "trouvé à la ligne 883\n",
      "trouvé à la ligne 886\n",
      "trouvé à la ligne 887\n",
      "trouvé à la ligne 889\n",
      "trouvé à la ligne 902\n",
      "trouvé à la ligne 905\n",
      "trouvé à la ligne 917\n",
      "trouvé à la ligne 919\n",
      "trouvé à la ligne 921\n",
      "trouvé à la ligne 924\n",
      "trouvé à la ligne 925\n",
      "trouvé à la ligne 930\n",
      "trouvé à la ligne 933\n",
      "trouvé à la ligne 934\n",
      "trouvé à la ligne 935\n",
      "trouvé à la ligne 936\n",
      "trouvé à la ligne 946\n",
      "trouvé à la ligne 950\n",
      "trouvé à la ligne 951\n",
      "trouvé à la ligne 953\n",
      "trouvé à la ligne 955\n",
      "trouvé à la ligne 958\n",
      "trouvé à la ligne 960\n",
      "trouvé à la ligne 970\n",
      "trouvé à la ligne 976\n",
      "trouvé à la ligne 977\n",
      "trouvé à la ligne 983\n",
      "trouvé à la ligne 985\n",
      "trouvé à la ligne 1008\n",
      "trouvé à la ligne 1015\n",
      "trouvé à la ligne 1019\n",
      "trouvé à la ligne 1027\n",
      "trouvé à la ligne 1029\n",
      "trouvé à la ligne 1031\n",
      "trouvé à la ligne 1032\n",
      "trouvé à la ligne 1040\n",
      "trouvé à la ligne 1053\n",
      "trouvé à la ligne 1060\n",
      "trouvé à la ligne 1061\n",
      "trouvé à la ligne 1078\n",
      "trouvé à la ligne 1081\n",
      "trouvé à la ligne 1089\n",
      "trouvé à la ligne 1090\n",
      "trouvé à la ligne 1091\n",
      "trouvé à la ligne 1094\n",
      "trouvé à la ligne 1098\n",
      "trouvé à la ligne 1107\n",
      "trouvé à la ligne 1108\n",
      "trouvé à la ligne 1124\n",
      "trouvé à la ligne 1126\n",
      "trouvé à la ligne 1143\n",
      "trouvé à la ligne 1144\n",
      "trouvé à la ligne 1154\n",
      "trouvé à la ligne 1160\n",
      "trouvé à la ligne 1163\n",
      "trouvé à la ligne 1164\n",
      "trouvé à la ligne 1168\n",
      "trouvé à la ligne 1170\n",
      "trouvé à la ligne 1173\n",
      "trouvé à la ligne 1178\n",
      "trouvé à la ligne 1183\n",
      "trouvé à la ligne 1198\n",
      "trouvé à la ligne 1208\n",
      "trouvé à la ligne 1209\n",
      "trouvé à la ligne 1228\n",
      "trouvé à la ligne 1231\n",
      "trouvé à la ligne 1232\n",
      "trouvé à la ligne 1237\n",
      "trouvé à la ligne 1241\n",
      "trouvé à la ligne 1249\n",
      "trouvé à la ligne 1250\n",
      "trouvé à la ligne 1251\n",
      "trouvé à la ligne 1255\n",
      "trouvé à la ligne 1258\n",
      "trouvé à la ligne 1262\n",
      "trouvé à la ligne 1263\n",
      "trouvé à la ligne 1266\n",
      "trouvé à la ligne 1271\n",
      "trouvé à la ligne 1274\n",
      "trouvé à la ligne 1279\n",
      "trouvé à la ligne 1286\n",
      "trouvé à la ligne 1299\n",
      "trouvé à la ligne 1301\n",
      "trouvé à la ligne 1305\n",
      "trouvé à la ligne 1306\n",
      "trouvé à la ligne 1310\n",
      "trouvé à la ligne 1314\n",
      "trouvé à la ligne 1322\n",
      "trouvé à la ligne 1329\n",
      "trouvé à la ligne 1337\n",
      "trouvé à la ligne 1338\n",
      "trouvé à la ligne 1359\n",
      "trouvé à la ligne 1360\n",
      "trouvé à la ligne 1363\n",
      "trouvé à la ligne 1372\n",
      "trouvé à la ligne 1373\n",
      "trouvé à la ligne 1378\n",
      "trouvé à la ligne 1388\n",
      "trouvé à la ligne 1395\n",
      "trouvé à la ligne 1396\n",
      "trouvé à la ligne 1400\n",
      "trouvé à la ligne 1401\n",
      "trouvé à la ligne 1410\n",
      "trouvé à la ligne 1411\n",
      "trouvé à la ligne 1412\n",
      "trouvé à la ligne 1415\n",
      "trouvé à la ligne 1428\n",
      "trouvé à la ligne 1434\n",
      "trouvé à la ligne 1443\n",
      "trouvé à la ligne 1449\n",
      "trouvé à la ligne 1453\n",
      "trouvé à la ligne 1457\n",
      "trouvé à la ligne 1464\n",
      "trouvé à la ligne 1466\n",
      "trouvé à la ligne 1467\n",
      "trouvé à la ligne 1473\n",
      "trouvé à la ligne 1481\n",
      "trouvé à la ligne 1485\n",
      "trouvé à la ligne 1488\n",
      "trouvé à la ligne 1493\n",
      "trouvé à la ligne 1496\n",
      "trouvé à la ligne 1503\n",
      "trouvé à la ligne 1505\n",
      "trouvé à la ligne 1507\n",
      "trouvé à la ligne 1519\n",
      "trouvé à la ligne 1520\n",
      "trouvé à la ligne 1521\n",
      "trouvé à la ligne 1522\n",
      "trouvé à la ligne 1534\n",
      "trouvé à la ligne 1536\n",
      "trouvé à la ligne 1541\n",
      "trouvé à la ligne 1542\n",
      "trouvé à la ligne 1557\n",
      "trouvé à la ligne 1559\n",
      "trouvé à la ligne 1560\n",
      "trouvé à la ligne 1575\n",
      "trouvé à la ligne 1576\n",
      "trouvé à la ligne 1581\n",
      "trouvé à la ligne 1582\n",
      "trouvé à la ligne 1595\n",
      "trouvé à la ligne 1601\n",
      "trouvé à la ligne 1602\n",
      "trouvé à la ligne 1611\n",
      "trouvé à la ligne 1614\n",
      "trouvé à la ligne 1615\n",
      "trouvé à la ligne 1624\n",
      "trouvé à la ligne 1645\n",
      "trouvé à la ligne 1661\n",
      "trouvé à la ligne 1664\n",
      "trouvé à la ligne 1670\n",
      "trouvé à la ligne 1671\n",
      "trouvé à la ligne 1687\n",
      "trouvé à la ligne 1696\n",
      "trouvé à la ligne 1699\n",
      "trouvé à la ligne 1702\n",
      "trouvé à la ligne 1706\n",
      "trouvé à la ligne 1712\n",
      "trouvé à la ligne 1719\n",
      "trouvé à la ligne 1721\n",
      "trouvé à la ligne 1722\n",
      "trouvé à la ligne 1724\n",
      "trouvé à la ligne 1725\n",
      "trouvé à la ligne 1726\n",
      "trouvé à la ligne 1727\n",
      "trouvé à la ligne 1731\n",
      "trouvé à la ligne 1734\n",
      "trouvé à la ligne 1736\n",
      "trouvé à la ligne 1742\n",
      "trouvé à la ligne 1747\n",
      "trouvé à la ligne 1753\n",
      "trouvé à la ligne 1755\n",
      "trouvé à la ligne 1761\n",
      "trouvé à la ligne 1762\n",
      "trouvé à la ligne 1766\n",
      "trouvé à la ligne 1767\n",
      "trouvé à la ligne 1770\n",
      "trouvé à la ligne 1772\n",
      "trouvé à la ligne 1774\n",
      "trouvé à la ligne 1781\n",
      "trouvé à la ligne 1787\n",
      "trouvé à la ligne 1794\n",
      "trouvé à la ligne 1795\n",
      "trouvé à la ligne 1796\n",
      "trouvé à la ligne 1797\n",
      "trouvé à la ligne 1798\n",
      "trouvé à la ligne 1799\n",
      "trouvé à la ligne 1801\n",
      "trouvé à la ligne 1803\n",
      "trouvé à la ligne 1806\n",
      "trouvé à la ligne 1809\n",
      "trouvé à la ligne 1824\n",
      "trouvé à la ligne 1829\n",
      "trouvé à la ligne 1834\n",
      "trouvé à la ligne 1848\n",
      "trouvé à la ligne 1849\n",
      "trouvé à la ligne 1861\n",
      "trouvé à la ligne 1862\n",
      "trouvé à la ligne 1863\n",
      "trouvé à la ligne 1867\n",
      "trouvé à la ligne 1871\n",
      "trouvé à la ligne 1884\n",
      "trouvé à la ligne 1885\n",
      "trouvé à la ligne 1887\n",
      "trouvé à la ligne 1915\n",
      "trouvé à la ligne 1916\n",
      "trouvé à la ligne 1921\n",
      "trouvé à la ligne 1928\n",
      "trouvé à la ligne 1937\n",
      "trouvé à la ligne 1944\n",
      "trouvé à la ligne 1945\n",
      "trouvé à la ligne 1951\n",
      "trouvé à la ligne 1953\n",
      "trouvé à la ligne 1954\n",
      "trouvé à la ligne 1965\n",
      "trouvé à la ligne 1967\n",
      "trouvé à la ligne 1968\n",
      "trouvé à la ligne 1969\n",
      "trouvé à la ligne 1971\n",
      "trouvé à la ligne 1975\n",
      "trouvé à la ligne 1979\n",
      "trouvé à la ligne 1981\n",
      "trouvé à la ligne 1984\n",
      "trouvé à la ligne 1992\n",
      "trouvé à la ligne 1993\n",
      "trouvé à la ligne 1996\n",
      "trouvé à la ligne 2008\n",
      "trouvé à la ligne 2013\n",
      "trouvé à la ligne 2024\n",
      "trouvé à la ligne 2028\n",
      "trouvé à la ligne 2030\n",
      "trouvé à la ligne 2036\n",
      "trouvé à la ligne 2038\n",
      "trouvé à la ligne 2039\n",
      "trouvé à la ligne 2051\n",
      "trouvé à la ligne 2066\n",
      "trouvé à la ligne 2077\n",
      "trouvé à la ligne 2080\n",
      "trouvé à la ligne 2095\n",
      "trouvé à la ligne 2104\n",
      "trouvé à la ligne 2108\n",
      "trouvé à la ligne 2123\n",
      "trouvé à la ligne 2126\n",
      "trouvé à la ligne 2129\n",
      "trouvé à la ligne 2142\n",
      "trouvé à la ligne 2146\n",
      "trouvé à la ligne 2147\n",
      "trouvé à la ligne 2151\n",
      "trouvé à la ligne 2160\n",
      "trouvé à la ligne 2167\n",
      "trouvé à la ligne 2171\n",
      "trouvé à la ligne 2174\n",
      "trouvé à la ligne 2178\n",
      "trouvé à la ligne 2184\n",
      "trouvé à la ligne 2187\n",
      "trouvé à la ligne 2195\n",
      "trouvé à la ligne 2196\n",
      "trouvé à la ligne 2205\n",
      "trouvé à la ligne 2222\n",
      "trouvé à la ligne 2237\n",
      "trouvé à la ligne 2244\n",
      "trouvé à la ligne 2245\n",
      "trouvé à la ligne 2250\n",
      "trouvé à la ligne 2254\n",
      "trouvé à la ligne 2255\n",
      "trouvé à la ligne 2271\n",
      "trouvé à la ligne 2285\n",
      "trouvé à la ligne 2287\n",
      "trouvé à la ligne 2288\n",
      "trouvé à la ligne 2293\n",
      "trouvé à la ligne 2294\n",
      "trouvé à la ligne 2309\n",
      "trouvé à la ligne 2312\n",
      "trouvé à la ligne 2314\n",
      "trouvé à la ligne 2328\n",
      "trouvé à la ligne 2330\n",
      "trouvé à la ligne 2331\n",
      "trouvé à la ligne 2342\n",
      "trouvé à la ligne 2345\n",
      "trouvé à la ligne 2346\n",
      "trouvé à la ligne 2348\n",
      "trouvé à la ligne 2350\n",
      "trouvé à la ligne 2359\n",
      "trouvé à la ligne 2362\n",
      "trouvé à la ligne 2363\n",
      "trouvé à la ligne 2365\n",
      "trouvé à la ligne 2372\n",
      "trouvé à la ligne 2386\n",
      "trouvé à la ligne 2391\n",
      "trouvé à la ligne 2402\n",
      "trouvé à la ligne 2404\n",
      "trouvé à la ligne 2408\n",
      "trouvé à la ligne 2409\n",
      "trouvé à la ligne 2411\n",
      "trouvé à la ligne 2425\n",
      "trouvé à la ligne 2431\n",
      "trouvé à la ligne 2439\n",
      "trouvé à la ligne 2443\n",
      "trouvé à la ligne 2444\n",
      "trouvé à la ligne 2447\n",
      "trouvé à la ligne 2456\n",
      "trouvé à la ligne 2457\n",
      "trouvé à la ligne 2463\n",
      "trouvé à la ligne 2472\n",
      "trouvé à la ligne 2473\n",
      "trouvé à la ligne 2475\n",
      "trouvé à la ligne 2476\n",
      "trouvé à la ligne 2489\n",
      "trouvé à la ligne 2490\n",
      "trouvé à la ligne 2492\n",
      "trouvé à la ligne 2497\n",
      "trouvé à la ligne 2498\n",
      "trouvé à la ligne 2499\n",
      "trouvé à la ligne 2505\n",
      "trouvé à la ligne 2507\n",
      "trouvé à la ligne 2517\n",
      "trouvé à la ligne 2524\n",
      "trouvé à la ligne 2525\n",
      "trouvé à la ligne 2527\n",
      "trouvé à la ligne 2535\n",
      "trouvé à la ligne 2539\n",
      "trouvé à la ligne 2549\n",
      "trouvé à la ligne 2556\n",
      "trouvé à la ligne 2558\n",
      "trouvé à la ligne 2560\n",
      "trouvé à la ligne 2561\n",
      "trouvé à la ligne 2572\n",
      "trouvé à la ligne 2573\n",
      "trouvé à la ligne 2577\n",
      "trouvé à la ligne 2579\n",
      "trouvé à la ligne 2583\n",
      "trouvé à la ligne 2584\n",
      "trouvé à la ligne 2585\n",
      "trouvé à la ligne 2587\n",
      "trouvé à la ligne 2596\n",
      "trouvé à la ligne 2600\n",
      "trouvé à la ligne 2606\n",
      "trouvé à la ligne 2609\n",
      "trouvé à la ligne 2611\n",
      "trouvé à la ligne 2612\n",
      "trouvé à la ligne 2621\n",
      "trouvé à la ligne 2626\n",
      "trouvé à la ligne 2630\n",
      "trouvé à la ligne 2636\n",
      "trouvé à la ligne 2642\n",
      "trouvé à la ligne 2652\n",
      "trouvé à la ligne 2654\n",
      "trouvé à la ligne 2658\n",
      "trouvé à la ligne 2666\n",
      "trouvé à la ligne 2667\n",
      "trouvé à la ligne 2668\n",
      "trouvé à la ligne 2682\n",
      "trouvé à la ligne 2686\n",
      "trouvé à la ligne 2692\n",
      "trouvé à la ligne 2701\n",
      "trouvé à la ligne 2702\n",
      "trouvé à la ligne 2705\n",
      "trouvé à la ligne 2710\n",
      "trouvé à la ligne 2716\n",
      "trouvé à la ligne 2717\n",
      "trouvé à la ligne 2724\n",
      "trouvé à la ligne 2725\n",
      "trouvé à la ligne 2726\n",
      "trouvé à la ligne 2727\n",
      "trouvé à la ligne 2733\n",
      "trouvé à la ligne 2736\n",
      "trouvé à la ligne 2745\n",
      "trouvé à la ligne 2746\n",
      "trouvé à la ligne 2750\n",
      "trouvé à la ligne 2752\n",
      "trouvé à la ligne 2763\n",
      "trouvé à la ligne 2764\n",
      "trouvé à la ligne 2765\n",
      "trouvé à la ligne 2766\n",
      "trouvé à la ligne 2769\n",
      "trouvé à la ligne 2770\n",
      "trouvé à la ligne 2771\n",
      "trouvé à la ligne 2779\n",
      "trouvé à la ligne 2787\n",
      "trouvé à la ligne 2789\n",
      "trouvé à la ligne 2793\n",
      "trouvé à la ligne 2794\n",
      "trouvé à la ligne 2796\n",
      "trouvé à la ligne 2802\n",
      "trouvé à la ligne 2803\n",
      "trouvé à la ligne 2806\n",
      "trouvé à la ligne 2824\n",
      "trouvé à la ligne 2829\n",
      "trouvé à la ligne 2830\n",
      "trouvé à la ligne 2831\n",
      "trouvé à la ligne 2838\n",
      "trouvé à la ligne 2839\n",
      "trouvé à la ligne 2840\n",
      "trouvé à la ligne 2845\n",
      "trouvé à la ligne 2849\n",
      "trouvé à la ligne 2853\n",
      "trouvé à la ligne 2862\n",
      "trouvé à la ligne 2863\n",
      "trouvé à la ligne 2864\n",
      "trouvé à la ligne 2866\n",
      "trouvé à la ligne 2870\n",
      "trouvé à la ligne 2872\n",
      "trouvé à la ligne 2874\n",
      "trouvé à la ligne 2879\n",
      "trouvé à la ligne 2886\n",
      "trouvé à la ligne 2891\n",
      "trouvé à la ligne 2899\n",
      "trouvé à la ligne 2911\n",
      "trouvé à la ligne 2915\n",
      "trouvé à la ligne 2918\n",
      "trouvé à la ligne 2920\n",
      "trouvé à la ligne 2921\n",
      "trouvé à la ligne 2927\n",
      "trouvé à la ligne 2935\n",
      "trouvé à la ligne 2960\n",
      "trouvé à la ligne 2961\n",
      "trouvé à la ligne 2968\n",
      "trouvé à la ligne 2970\n",
      "trouvé à la ligne 2971\n",
      "trouvé à la ligne 2976\n",
      "trouvé à la ligne 2986\n",
      "trouvé à la ligne 2993\n",
      "trouvé à la ligne 2997\n",
      "trouvé à la ligne 3000\n",
      "trouvé à la ligne 3002\n",
      "trouvé à la ligne 3013\n",
      "trouvé à la ligne 3019\n",
      "trouvé à la ligne 3026\n",
      "trouvé à la ligne 3032\n",
      "trouvé à la ligne 3034\n",
      "trouvé à la ligne 3040\n",
      "trouvé à la ligne 3042\n",
      "trouvé à la ligne 3046\n",
      "trouvé à la ligne 3047\n",
      "trouvé à la ligne 3052\n",
      "trouvé à la ligne 3057\n",
      "trouvé à la ligne 3061\n",
      "trouvé à la ligne 3069\n",
      "trouvé à la ligne 3072\n",
      "trouvé à la ligne 3077\n",
      "trouvé à la ligne 3080\n",
      "trouvé à la ligne 3084\n",
      "trouvé à la ligne 3085\n",
      "trouvé à la ligne 3091\n",
      "trouvé à la ligne 3096\n",
      "trouvé à la ligne 3100\n",
      "trouvé à la ligne 3102\n",
      "trouvé à la ligne 3108\n",
      "trouvé à la ligne 3113\n",
      "trouvé à la ligne 3118\n",
      "trouvé à la ligne 3133\n",
      "trouvé à la ligne 3136\n",
      "trouvé à la ligne 3141\n",
      "trouvé à la ligne 3144\n",
      "trouvé à la ligne 3150\n",
      "trouvé à la ligne 3151\n",
      "trouvé à la ligne 3153\n",
      "trouvé à la ligne 3156\n",
      "trouvé à la ligne 3163\n",
      "trouvé à la ligne 3174\n",
      "trouvé à la ligne 3176\n",
      "trouvé à la ligne 3183\n",
      "trouvé à la ligne 3186\n",
      "trouvé à la ligne 3190\n",
      "trouvé à la ligne 3195\n",
      "trouvé à la ligne 3199\n",
      "trouvé à la ligne 3203\n",
      "trouvé à la ligne 3208\n",
      "trouvé à la ligne 3214\n",
      "trouvé à la ligne 3216\n",
      "trouvé à la ligne 3223\n",
      "trouvé à la ligne 3224\n",
      "trouvé à la ligne 3234\n",
      "trouvé à la ligne 3235\n",
      "trouvé à la ligne 3239\n",
      "trouvé à la ligne 3242\n",
      "trouvé à la ligne 3248\n",
      "trouvé à la ligne 3252\n",
      "trouvé à la ligne 3253\n"
     ]
    }
   ],
   "source": [
    "rows = 0\n",
    "for item in years_1984:\n",
    "    rows += 1\n",
    "    if item[0] == True:\n",
    "        print(f\"1984 trouvé à la ligne {rows}\")"
   ]
  },
  {
   "cell_type": "code",
   "execution_count": 13,
   "metadata": {},
   "outputs": [
    {
     "name": "stdout",
     "output_type": "stream",
     "text": [
      "[['1984' 'Africa' 'Nigeria' 'Other' '6.1']\n",
      " ['1987' 'Africa' 'Botswana' 'Wine' '0.2']\n",
      " ['1989' 'Americas' 'Guatemala' 'Beer' '0.62']\n",
      " ['1985' 'Western Pacific' \"Lao People's Democratic Republic\" 'Beer' '0']\n",
      " ['1984' 'Eastern Mediterranean' 'Afghanistan' 'Other' '0']\n",
      " ['1985' 'Western Pacific' 'Viet Nam' 'Spirits' '0.05']\n",
      " ['1987' 'Africa' 'Guinea-Bissau' 'Wine' '0.07']\n",
      " ['1984' 'Americas' 'Costa Rica' 'Wine' '0.06']\n",
      " ['1989' 'Africa' 'Seychelles' 'Beer' '2.23']\n",
      " ['1984' 'Europe' 'Norway' 'Spirits' '1.62']\n",
      " ['1984' 'Africa' 'Kenya' 'Beer' '1.08']]\n"
     ]
    }
   ],
   "source": [
    "print(world_alcohol[9:20,:])"
   ]
  },
  {
   "cell_type": "code",
   "execution_count": 14,
   "metadata": {},
   "outputs": [
    {
     "name": "stdout",
     "output_type": "stream",
     "text": [
      "Canada trouvé à la ligne 147\n",
      "Canada trouvé à la ligne 275\n",
      "Canada trouvé à la ligne 353\n",
      "Canada trouvé à la ligne 548\n",
      "Canada trouvé à la ligne 572\n",
      "Canada trouvé à la ligne 1153\n",
      "Canada trouvé à la ligne 1270\n",
      "Canada trouvé à la ligne 1626\n",
      "Canada trouvé à la ligne 1708\n",
      "Canada trouvé à la ligne 2060\n",
      "Canada trouvé à la ligne 2091\n",
      "Canada trouvé à la ligne 2309\n",
      "Canada trouvé à la ligne 2541\n",
      "Canada trouvé à la ligne 3069\n",
      "Canada trouvé à la ligne 3070\n",
      "Canada trouvé à la ligne 3090\n",
      "Canada trouvé à la ligne 3140\n",
      "Canada trouvé à la ligne 3154\n",
      "Canada trouvé à la ligne 3212\n",
      "Canada trouvé à la ligne 3238\n"
     ]
    }
   ],
   "source": [
    "rows = 0\n",
    "for item in countries_canada:\n",
    "    rows += 1\n",
    "    if item[0] == True:\n",
    "        print(f\"Canada trouvé à la ligne {rows}\")"
   ]
  },
  {
   "cell_type": "code",
   "execution_count": 15,
   "metadata": {},
   "outputs": [
    {
     "name": "stdout",
     "output_type": "stream",
     "text": [
      "[['1989' 'Americas' 'Canada' 'Beer' '4.82']\n",
      " ['1984' 'Europe' 'Finland' 'Spirits' '1.79']\n",
      " ['1989' 'Africa' 'Congo' 'Beer' '1.91']\n",
      " ['1985' 'Europe' 'Denmark' 'Spirits' '1.97']\n",
      " ['1984' 'Africa' 'Togo' 'Spirits' '0.58']\n",
      " ['1986' 'Europe' 'Spain' 'Spirits' '3.73']\n",
      " ['1985' 'Europe' 'Finland' 'Beer' '3.48']\n",
      " ['1985' 'Americas' 'Saint Lucia' 'Wine' '0.46']\n",
      " ['1987' 'Africa' 'Sierra Leone' 'Beer' '0.13']\n",
      " ['1986' 'Americas' 'Haiti' 'Wine' '0.01']\n",
      " ['1984' 'Western Pacific' 'Mongolia' 'Spirits' '3.24']\n",
      " ['1984' 'Eastern Mediterranean' 'Tunisia' 'Spirits' '0.1']\n",
      " ['1987' 'Americas' 'Guyana' 'Spirits' '6.67']\n",
      " ['1984' 'Eastern Mediterranean' 'Pakistan' 'Other' '0.01']\n",
      " ['1989' 'Americas' 'Canada' 'Other' '']\n",
      " ['1985' 'Western Pacific' 'Australia' 'Spirits' '1.7']]\n"
     ]
    }
   ],
   "source": [
    "print(world_alcohol[3139:3155,:])"
   ]
  },
  {
   "cell_type": "markdown",
   "metadata": {},
   "source": [
    "### Sélectionner des éléments"
   ]
  },
  {
   "cell_type": "code",
   "execution_count": 16,
   "metadata": {},
   "outputs": [
    {
     "name": "stdout",
     "output_type": "stream",
     "text": [
      "[10]\n"
     ]
    }
   ],
   "source": [
    "equal_to_ten = (vector == 10)\n",
    "print(vector[equal_to_ten])"
   ]
  },
  {
   "cell_type": "code",
   "execution_count": 17,
   "metadata": {},
   "outputs": [
    {
     "name": "stdout",
     "output_type": "stream",
     "text": [
      "[False  True False False]\n"
     ]
    }
   ],
   "source": [
    "print(equal_to_ten)"
   ]
  },
  {
   "cell_type": "code",
   "execution_count": 23,
   "metadata": {},
   "outputs": [
    {
     "data": {
      "text/plain": [
       "array([[ 2,  5, 15],\n",
       "       [20, 50, 30],\n",
       "       [34, 99, 45]])"
      ]
     },
     "execution_count": 23,
     "metadata": {},
     "output_type": "execute_result"
    }
   ],
   "source": [
    "matrix"
   ]
  },
  {
   "cell_type": "code",
   "execution_count": 25,
   "metadata": {},
   "outputs": [
    {
     "name": "stdout",
     "output_type": "stream",
     "text": [
      "[[ 2  5 15]]\n"
     ]
    }
   ],
   "source": [
    "second_column_5 = (matrix[:,1] == 5)\n",
    "print(matrix[second_column_5, :])"
   ]
  },
  {
   "cell_type": "code",
   "execution_count": 27,
   "metadata": {},
   "outputs": [
    {
     "name": "stdout",
     "output_type": "stream",
     "text": [
      "[['1984' 'Africa' 'Algeria' 'Spirits' '0.01']\n",
      " ['1987' 'Africa' 'Algeria' 'Beer' '0.17']\n",
      " ['1987' 'Africa' 'Algeria' 'Spirits' '0.01']\n",
      " ['1986' 'Africa' 'Algeria' 'Wine' '0.1']\n",
      " ['1984' 'Africa' 'Algeria' 'Other' '0']\n",
      " ['1989' 'Africa' 'Algeria' 'Beer' '0.16']\n",
      " ['1989' 'Africa' 'Algeria' 'Spirits' '0.01']\n",
      " ['1989' 'Africa' 'Algeria' 'Wine' '0.23']\n",
      " ['1986' 'Africa' 'Algeria' 'Spirits' '0.01']\n",
      " ['1984' 'Africa' 'Algeria' 'Wine' '0.12']\n",
      " ['1985' 'Africa' 'Algeria' 'Beer' '0.19']\n",
      " ['1985' 'Africa' 'Algeria' 'Other' '0']\n",
      " ['1986' 'Africa' 'Algeria' 'Beer' '0.18']\n",
      " ['1985' 'Africa' 'Algeria' 'Wine' '0.11']\n",
      " ['1986' 'Africa' 'Algeria' 'Other' '0']\n",
      " ['1989' 'Africa' 'Algeria' 'Other' '0']\n",
      " ['1987' 'Africa' 'Algeria' 'Other' '0']\n",
      " ['1984' 'Africa' 'Algeria' 'Beer' '0.2']\n",
      " ['1985' 'Africa' 'Algeria' 'Spirits' '0.01']\n",
      " ['1987' 'Africa' 'Algeria' 'Wine' '0.1']]\n"
     ]
    }
   ],
   "source": [
    "country_is_algeria = (\"Algeria\" == world_alcohol[:,2])\n",
    "# print(country_is_algeria)\n",
    "country_algeria = world_alcohol[country_is_algeria]\n",
    "print(country_algeria)"
   ]
  },
  {
   "cell_type": "code",
   "execution_count": 28,
   "metadata": {},
   "outputs": [],
   "source": [
    "years_is_1984 = (world_alcohol[:,0] == '1984')"
   ]
  },
  {
   "cell_type": "code",
   "execution_count": 29,
   "metadata": {},
   "outputs": [
    {
     "name": "stdout",
     "output_type": "stream",
     "text": [
      "[['1984' 'Africa' 'Nigeria' 'Other' '6.1']\n",
      " ['1984' 'Eastern Mediterranean' 'Afghanistan' 'Other' '0']\n",
      " ['1984' 'Americas' 'Costa Rica' 'Wine' '0.06']\n",
      " ...\n",
      " ['1984' 'Europe' 'Latvia' 'Spirits' '7.5']\n",
      " ['1984' 'Africa' 'Angola' 'Wine' '0.57']\n",
      " ['1984' 'Africa' 'Central African Republic' 'Wine' '0.46']]\n"
     ]
    }
   ],
   "source": [
    "years_1984 = world_alcohol[years_is_1984]\n",
    "print(years_1984)"
   ]
  },
  {
   "cell_type": "markdown",
   "metadata": {},
   "source": [
    "### Effectuer des comparaisons avec plusieurs conditions"
   ]
  },
  {
   "cell_type": "code",
   "execution_count": 30,
   "metadata": {},
   "outputs": [
    {
     "data": {
      "text/plain": [
       "array([ 5, 10, 15, 20])"
      ]
     },
     "execution_count": 30,
     "metadata": {},
     "output_type": "execute_result"
    }
   ],
   "source": [
    "vector"
   ]
  },
  {
   "cell_type": "code",
   "execution_count": 31,
   "metadata": {},
   "outputs": [
    {
     "name": "stdout",
     "output_type": "stream",
     "text": [
      "[False False False False]\n"
     ]
    }
   ],
   "source": [
    "equal_to_ten_and_five = (vector == 10) & (vector == 5)\n",
    "print(equal_to_ten_and_five)"
   ]
  },
  {
   "cell_type": "code",
   "execution_count": 32,
   "metadata": {},
   "outputs": [
    {
     "name": "stdout",
     "output_type": "stream",
     "text": [
      "[ True  True False False]\n"
     ]
    }
   ],
   "source": [
    "equal_to_ten_or_five = (vector == 10) | (vector == 5)\n",
    "print(equal_to_ten_or_five)"
   ]
  },
  {
   "cell_type": "code",
   "execution_count": 33,
   "metadata": {},
   "outputs": [
    {
     "name": "stdout",
     "output_type": "stream",
     "text": [
      "[['1986' 'Africa' 'Algeria' 'Wine' '0.1']\n",
      " ['1986' 'Africa' 'Algeria' 'Spirits' '0.01']\n",
      " ['1986' 'Africa' 'Algeria' 'Beer' '0.18']\n",
      " ['1986' 'Africa' 'Algeria' 'Other' '0']]\n"
     ]
    }
   ],
   "source": [
    "# Sélectionner les lignes dont le pays est \"Algeria\" et l'année \"1986\"\n",
    "is_algeria_and_1986 = (world_alcohol[:,0] == '1986') & (world_alcohol[:,2] == 'Algeria')\n",
    "rows_with_algeria_and_1986 = world_alcohol[is_algeria_and_1986]\n",
    "print(rows_with_algeria_and_1986)"
   ]
  },
  {
   "cell_type": "markdown",
   "metadata": {},
   "source": [
    "### Remplacer des valeurs dans un tableau Numpy"
   ]
  },
  {
   "cell_type": "code",
   "execution_count": 34,
   "metadata": {},
   "outputs": [
    {
     "data": {
      "text/plain": [
       "array([ 5, 10, 15, 20])"
      ]
     },
     "execution_count": 34,
     "metadata": {},
     "output_type": "execute_result"
    }
   ],
   "source": [
    "vector"
   ]
  },
  {
   "cell_type": "code",
   "execution_count": 35,
   "metadata": {},
   "outputs": [
    {
     "name": "stdout",
     "output_type": "stream",
     "text": [
      "[ True  True False False]\n"
     ]
    }
   ],
   "source": [
    "equal_to_ten_or_five = (vector == 10) | (vector == 5)\n",
    "print(equal_to_ten_or_five)"
   ]
  },
  {
   "cell_type": "code",
   "execution_count": 36,
   "metadata": {},
   "outputs": [
    {
     "data": {
      "text/plain": [
       "array([50, 50, 15, 20])"
      ]
     },
     "execution_count": 36,
     "metadata": {},
     "output_type": "execute_result"
    }
   ],
   "source": [
    "vector[equal_to_ten_or_five] = 50\n",
    "vector"
   ]
  },
  {
   "cell_type": "code",
   "execution_count": 37,
   "metadata": {},
   "outputs": [
    {
     "data": {
      "text/plain": [
       "array([[ 2,  5, 15],\n",
       "       [20, 50, 30],\n",
       "       [34, 99, 45]])"
      ]
     },
     "execution_count": 37,
     "metadata": {},
     "output_type": "execute_result"
    }
   ],
   "source": [
    "matrix"
   ]
  },
  {
   "cell_type": "code",
   "execution_count": 39,
   "metadata": {},
   "outputs": [
    {
     "name": "stdout",
     "output_type": "stream",
     "text": [
      "[ True False False]\n"
     ]
    }
   ],
   "source": [
    "second_column_5 = matrix[:,1] == 5\n",
    "print(second_column_5)"
   ]
  },
  {
   "cell_type": "code",
   "execution_count": 40,
   "metadata": {},
   "outputs": [
    {
     "name": "stdout",
     "output_type": "stream",
     "text": [
      "[[ 2 25 15]\n",
      " [20 50 30]\n",
      " [34 99 45]]\n"
     ]
    }
   ],
   "source": [
    "matrix[second_column_5, 1] = 25\n",
    "print(matrix)"
   ]
  },
  {
   "cell_type": "code",
   "execution_count": 70,
   "metadata": {},
   "outputs": [
    {
     "name": "stdout",
     "output_type": "stream",
     "text": [
      "[['2018' 'Western Pacific' 'Viet Nam' 'Beer' '0']\n",
      " ['2018' 'Americas' 'Uruguay' 'Other' '0.5']\n",
      " ['1985' 'Africa' \"Cte d'Ivoire\" 'Beer' '1.62']\n",
      " ...\n",
      " ['2018' 'Europe' 'Switzerland' 'Spirits' '2.54']\n",
      " ['1987' 'Western Pacific' 'Papua New Guinea' 'Other' '0']\n",
      " ['2018' 'Africa' 'Swaziland' 'Other' '5.15']]\n"
     ]
    }
   ],
   "source": [
    "world_alcohol_2 = world_alcohol\n",
    "is_wine_or_1986 = (world_alcohol_2[:,0] == \"1986\") | (world_alcohol_2[:,3] == \"Wine\")\n",
    "is_wine = world_alcohol_2[:,3] == \"Wine\"\n",
    "is_1986 = (world_alcohol_2[:,0] == \"1986\")\n",
    "world_alcohol_2[is_wine, 3] = \"Beer\"\n",
    "world_alcohol_2[is_1986, 0] = \"2018\"\n",
    "print(world_alcohol_2)"
   ]
  },
  {
   "cell_type": "markdown",
   "metadata": {},
   "source": [
    "### Remplacer les chaînes de caractères vides dans un tableau Numpy"
   ]
  },
  {
   "cell_type": "code",
   "execution_count": 42,
   "metadata": {},
   "outputs": [
    {
     "name": "stdout",
     "output_type": "stream",
     "text": [
      "[['2018' 'Western Pacific' 'Viet Nam' 'Beer' '0']\n",
      " ['2018' 'Americas' 'Uruguay' 'Other' '0.5']\n",
      " ['1985' 'Africa' \"Cte d'Ivoire\" 'Beer' '1.62']\n",
      " ...\n",
      " ['2018' 'Europe' 'Switzerland' 'Spirits' '2.54']\n",
      " ['1987' 'Western Pacific' 'Papua New Guinea' 'Other' '0']\n",
      " ['2018' 'Africa' 'Swaziland' 'Other' '5.15']]\n"
     ]
    }
   ],
   "source": [
    "is_value_empty = world_alcohol[:,4] == ''\n",
    "world_alcohol[is_value_empty, 4] = '0'\n",
    "print(world_alcohol)"
   ]
  },
  {
   "cell_type": "markdown",
   "metadata": {},
   "source": [
    "### Convertir des types de données"
   ]
  },
  {
   "cell_type": "code",
   "execution_count": 43,
   "metadata": {},
   "outputs": [],
   "source": [
    "# astype()"
   ]
  },
  {
   "cell_type": "code",
   "execution_count": 45,
   "metadata": {},
   "outputs": [],
   "source": [
    "vector_str = np.array([\"1\", \"2\", \"3\"])\n",
    "vector_float = vector_str.astype(float)"
   ]
  },
  {
   "cell_type": "code",
   "execution_count": 46,
   "metadata": {},
   "outputs": [
    {
     "data": {
      "text/plain": [
       "array([1., 2., 3.])"
      ]
     },
     "execution_count": 46,
     "metadata": {},
     "output_type": "execute_result"
    }
   ],
   "source": [
    "vector_float"
   ]
  },
  {
   "cell_type": "code",
   "execution_count": 47,
   "metadata": {},
   "outputs": [
    {
     "data": {
      "text/plain": [
       "array(['1', '2', '3'], dtype='<U1')"
      ]
     },
     "execution_count": 47,
     "metadata": {},
     "output_type": "execute_result"
    }
   ],
   "source": [
    "vector_str"
   ]
  },
  {
   "cell_type": "code",
   "execution_count": 62,
   "metadata": {},
   "outputs": [
    {
     "name": "stdout",
     "output_type": "stream",
     "text": [
      "['0' '0.5' '1.62' ... '2.54' '0' '5.15']\n",
      "[0.   0.5  1.62 ... 2.54 0.   5.15]\n"
     ]
    }
   ],
   "source": [
    "# extraire la cinquième colonne et l'assigner à alcohol_consumption\n",
    "# utiliser la méthode astype() pour convertir alcohol_consumption en décimal (float)\n",
    "alcohol_consumption = world_alcohol[:,4]\n",
    "print(alcohol_consumption)\n",
    "alcohol_consumption = alcohol_consumption.astype(float)\n",
    "print(alcohol_consumption)"
   ]
  },
  {
   "cell_type": "markdown",
   "metadata": {},
   "source": [
    "### Réaliser des calculs mathématiques avec Numpy"
   ]
  },
  {
   "cell_type": "code",
   "execution_count": 50,
   "metadata": {},
   "outputs": [],
   "source": [
    "# sum()\n",
    "# mean() => moyenne\n",
    "# max()"
   ]
  },
  {
   "cell_type": "code",
   "execution_count": 51,
   "metadata": {},
   "outputs": [
    {
     "data": {
      "text/plain": [
       "array([50, 50, 15, 20])"
      ]
     },
     "execution_count": 51,
     "metadata": {},
     "output_type": "execute_result"
    }
   ],
   "source": [
    "vector"
   ]
  },
  {
   "cell_type": "code",
   "execution_count": 52,
   "metadata": {},
   "outputs": [
    {
     "data": {
      "text/plain": [
       "135"
      ]
     },
     "execution_count": 52,
     "metadata": {},
     "output_type": "execute_result"
    }
   ],
   "source": [
    "vector.sum()"
   ]
  },
  {
   "cell_type": "code",
   "execution_count": 53,
   "metadata": {},
   "outputs": [
    {
     "data": {
      "text/plain": [
       "33.75"
      ]
     },
     "execution_count": 53,
     "metadata": {},
     "output_type": "execute_result"
    }
   ],
   "source": [
    "vector.mean()"
   ]
  },
  {
   "cell_type": "code",
   "execution_count": 54,
   "metadata": {},
   "outputs": [
    {
     "data": {
      "text/plain": [
       "50"
      ]
     },
     "execution_count": 54,
     "metadata": {},
     "output_type": "execute_result"
    }
   ],
   "source": [
    "vector.max()"
   ]
  },
  {
   "cell_type": "code",
   "execution_count": 55,
   "metadata": {},
   "outputs": [
    {
     "data": {
      "text/plain": [
       "array([[ 2, 25, 15],\n",
       "       [20, 50, 30],\n",
       "       [34, 99, 45]])"
      ]
     },
     "execution_count": 55,
     "metadata": {},
     "output_type": "execute_result"
    }
   ],
   "source": [
    "matrix"
   ]
  },
  {
   "cell_type": "code",
   "execution_count": 56,
   "metadata": {},
   "outputs": [
    {
     "data": {
      "text/plain": [
       "array([ 42, 100, 178])"
      ]
     },
     "execution_count": 56,
     "metadata": {},
     "output_type": "execute_result"
    }
   ],
   "source": [
    "matrix.sum(axis=1) # somme sur les lignes"
   ]
  },
  {
   "cell_type": "code",
   "execution_count": 57,
   "metadata": {},
   "outputs": [
    {
     "data": {
      "text/plain": [
       "array([ 56, 174,  90])"
      ]
     },
     "execution_count": 57,
     "metadata": {},
     "output_type": "execute_result"
    }
   ],
   "source": [
    "matrix.sum(axis=0)  # somme sur les colonnes"
   ]
  },
  {
   "cell_type": "code",
   "execution_count": 63,
   "metadata": {},
   "outputs": [
    {
     "name": "stdout",
     "output_type": "stream",
     "text": [
      "la consommation totale d'alcool est 3908.96 litres par an\n",
      "La moyenne est 1.2001719373656738 l/an\n"
     ]
    }
   ],
   "source": [
    "total_alcohol = alcohol_consumption.sum()\n",
    "average_alcohol = alcohol_consumption.mean()\n",
    "print(f\"la consommation totale d'alcool est {total_alcohol} litres par an\\nLa moyenne est {average_alcohol} l/an\")"
   ]
  },
  {
   "cell_type": "markdown",
   "metadata": {},
   "source": [
    "### Calculer la consommation totale annuelle pour un pays donné"
   ]
  },
  {
   "cell_type": "code",
   "execution_count": 73,
   "metadata": {},
   "outputs": [
    {
     "name": "stdout",
     "output_type": "stream",
     "text": [
      "[False False False ... False False False]\n",
      "[['1986' 'Americas' 'Canada' 'Other' '']\n",
      " ['1986' 'Americas' 'Canada' 'Spirits' '3.11']\n",
      " ['1986' 'Americas' 'Canada' 'Beer' '4.87']\n",
      " ['1986' 'Americas' 'Canada' 'Wine' '1.33']]\n"
     ]
    }
   ],
   "source": [
    "world_alcohol = np.genfromtxt(\"world-alcohol.csv\", delimiter=',', dtype=\"U75\", skip_header=1)\n",
    "is_canada_1986 = (world_alcohol[:,2] == \"Canada\") & (world_alcohol[:,0] == \"1986\")\n",
    "print(is_canada_1986)\n",
    "canada_1986 = world_alcohol[is_canada_1986]\n",
    "print(canada_1986)"
   ]
  },
  {
   "cell_type": "code",
   "execution_count": 75,
   "metadata": {},
   "outputs": [
    {
     "name": "stdout",
     "output_type": "stream",
     "text": [
      "[0.   3.11 4.87 1.33]\n",
      "la consommation annuelle d'alcool au Canada par habitant est de 9.31 litres\n"
     ]
    }
   ],
   "source": [
    "canada_1986[canada_1986[:,4] == ''] = '0'\n",
    "canada_alcohol = canada_1986[:,4].astype(float)\n",
    "print(canada_alcohol)\n",
    "total_canadian_drinking = canada_alcohol.sum()\n",
    "print(f\"la consommation annuelle d'alcool au Canada par habitant est de {total_canadian_drinking} litres\")"
   ]
  },
  {
   "cell_type": "markdown",
   "metadata": {},
   "source": [
    "### Calculer la consommation totale annuelle pour chaque pays\n"
   ]
  },
  {
   "cell_type": "code",
   "execution_count": 80,
   "metadata": {},
   "outputs": [
    {
     "name": "stdout",
     "output_type": "stream",
     "text": [
      "[['1989' 'Americas' 'Guatemala' 'Beer' '0.62']\n",
      " ['1989' 'Africa' 'Seychelles' 'Beer' '2.23']\n",
      " ['1989' 'Americas' 'Costa Rica' 'Spirits' '4.51']\n",
      " ...\n",
      " ['1989' 'Eastern Mediterranean' 'Morocco' 'Spirits' '0.07']\n",
      " ['1989' 'Europe' 'Poland' 'Beer' '2.03']\n",
      " ['1989' 'Europe' 'Turkey' 'Other' '0']]\n",
      "['Viet Nam' 'Uruguay' \"Cte d'Ivoire\" ... 'Switzerland' 'Papua New Guinea'\n",
      " 'Swaziland']\n",
      "{'Viet Nam': 0.16, 'Uruguay': 7.4399999999999995, \"Cte d'Ivoire\": 2.2, 'Colombia': 6.960000000000001, 'Saint Kitts and Nevis': 4.65, 'Guatemala': 2.47, 'Mauritius': 3.54, 'Angola': 2.28, 'Antigua and Barbuda': 4.69, 'Nigeria': 6.74, 'Botswana': 4.63, \"Lao People's Democratic Republic\": 5.95, 'Afghanistan': 0.0, 'Guinea-Bissau': 2.67, 'Costa Rica': 5.3999999999999995, 'Seychelles': 3.3000000000000003, 'Norway': 5.08, 'Kenya': 2.82, 'Myanmar': 0.16, 'Romania': 8.41, 'Turkey': 0.72, 'Comoros': 0.10999999999999999, 'Tunisia': 0.95, 'United Kingdom of Great Britain and Northern Ireland': 9.99, 'Bahrain': 4.89, 'Italy': 10.899999999999999, 'Sierra Leone': 4.380000000000001, 'Micronesia (Federated States of)': 0.0, 'Mauritania': 0.02, 'Russian Federation': 5.35, 'Egypt': 0.42000000000000004, 'Sweden': 7.47, 'Qatar': 1.4500000000000002, 'Burkina Faso': 3.99, 'Austria': 13.9, 'Czech Republic': 13.009999999999998, 'Ukraine': 5.32, 'China': 3.33, 'Lithuania': 0.0, 'Zimbabwe': 4.92, 'Trinidad and Tobago': 4.68, 'Mexico': 5.1, 'Nicaragua': 2.5, 'Malta': 7.13, 'Switzerland': 13.849999999999998, 'Finland': 9.419999999999998, 'Saudi Arabia': 0.15, 'Kuwait': 0.0, 'El Salvador': 1.77, 'Suriname': 3.67, 'Croatia': 10.92, 'Somalia': 0.0, 'Syrian Arab Republic': 0.54, 'Iran (Islamic Republic of)': 0.0, 'Papua New Guinea': 1.1099999999999999, 'Libya': 0.0, 'Bolivia (Plurinational State of)': 3.05, 'Iraq': 0.75, 'Namibia': 0.24, 'Uganda': 7.8, 'Togo': 2.2199999999999998, 'Madagascar': 1.38, 'Mali': 0.6699999999999999, 'Pakistan': 0.02, 'Cameroon': 6.359999999999999, 'Jamaica': 3.03, 'Malawi': 1.02, 'Netherlands': 10.030000000000001, 'Ireland': 11.79, 'Sri Lanka': 0.14, 'Democratic Republic of the Congo': 1.92, 'Bahamas': 12.290000000000001, 'Lebanon': 3.94, 'Bulgaria': 11.43, 'Eritrea': 0.29, 'Niger': 0.11, 'Luxembourg': 15.21, 'Indonesia': 0.07, 'Equatorial Guinea': 6.49, \"Democratic People's Republic of Korea\": 3.6799999999999997, 'Chile': 8.649999999999999, 'Central African Republic': 2.5199999999999996, 'Spain': 13.280000000000001, 'Gambia': 1.6300000000000001, 'Ghana': 1.8599999999999999, 'Brazil': 5.52, 'Portugal': 15.350000000000001, 'Burundi': 8.159999999999998, 'Belgium': 11.61, 'Paraguay': 6.51, 'Hungary': 16.29, 'Greece': 10.15, 'India': 1.66, 'Kyrgyzstan': 4.279999999999999, 'France': 16.05, 'Zambia': 3.37, 'Israel': 2.0300000000000002, 'Swaziland': 6.68, 'Canada': 9.0, 'Cambodia': 0.33, 'Cabo Verde': 2.79, 'United Arab Emirates': 4.43, 'Peru': 4.99, 'Solomon Islands': 0.5800000000000001, 'United Republic of Tanzania': 5.9, 'Chad': 0.30000000000000004, 'Cuba': 4.37, 'Guyana': 9.940000000000001, 'Mongolia': 2.59, 'Australia': 12.09, 'Sao Tome and Principe': 2.57, 'Slovenia': 12.969999999999999, 'Benin': 1.3800000000000001, 'Algeria': 0.4, 'Venezuela (Bolivarian Republic of)': 7.87, 'Ecuador': 2.54, 'Iceland': 5.359999999999999, 'Liberia': 5.61, 'Yemen': 0.2, 'Sudan': 0.15, 'Belarus': 7.9799999999999995, 'Cyprus': 9.29, 'United States of America': 9.16, 'Vanuatu': 1.74, 'Bangladesh': 0.0, 'Philippines': 3.78, 'Slovakia': 12.700000000000001, 'Poland': 9.33, 'Senegal': 0.6100000000000001, 'Honduras': 2.15, 'Bhutan': 0.31, 'Fiji': 1.9600000000000002, 'Belize': 0.0, 'Lesotho': 2.02, 'Singapore': 1.61, 'Guinea': 0.21, 'Brunei Darussalam': 2.7800000000000002, 'Congo': 3.1500000000000004, 'Thailand': 3.92, 'Djibouti': 0.87, 'Gabon': 9.34, 'Dominican Republic': 4.53, 'Morocco': 0.7, 'New Zealand': 11.52, 'Denmark': 11.649999999999999, 'Samoa': 2.63, 'Argentina': 10.82, 'Oman': 1.03, 'Kiribati': 0.48, 'Albania': 1.73, 'Nepal': 0.03, 'Malaysia': 0.68, 'Latvia': 7.039999999999999, 'Haiti': 5.81, 'South Africa': 9.21, 'Republic of Korea': 9.620000000000001, 'Japan': 7.74, 'Mozambique': 0.39, 'Ethiopia': 0.8600000000000001, 'Panama': 4.6000000000000005, 'Germany': 14.64, 'Saint Lucia': 11.62, 'Rwanda': 7.549999999999999, 'Jordan': 0.19}\n"
     ]
    }
   ],
   "source": [
    "totals = {}\n",
    "year = world_alcohol[world_alcohol[:,0] == \"1989\"]\n",
    "print(year)\n",
    "countries = world_alcohol[:, 2]\n",
    "print(countries)\n",
    "for country in countries:\n",
    "    country_consumption = year[year[:,2] == country]\n",
    "    country_consumption[country_consumption[:,4] == ''] = '0'\n",
    "    country_consumption = country_consumption[:, 4].astype(float).sum()\n",
    "    totals[country] = country_consumption\n",
    "    \n",
    "print(totals)"
   ]
  },
  {
   "cell_type": "code",
   "execution_count": 82,
   "metadata": {},
   "outputs": [
    {
     "name": "stdout",
     "output_type": "stream",
     "text": [
      " la conso annuelle en litre au Canada est de 9.0\n"
     ]
    }
   ],
   "source": [
    "print(f\" la conso annuelle en 1989 en litre au Canada est de {totals['Canada']}\")"
   ]
  },
  {
   "cell_type": "code",
   "execution_count": 83,
   "metadata": {},
   "outputs": [
    {
     "name": "stdout",
     "output_type": "stream",
     "text": [
      " la conso annuelle en 1989 en litre au France est de 16.05\n"
     ]
    }
   ],
   "source": [
    "print(f\" la conso annuelle en 1989 en litre au France est de {totals['France']}\")"
   ]
  },
  {
   "cell_type": "markdown",
   "metadata": {},
   "source": [
    "### Trouver le pays qui consomme le plus d'alcool"
   ]
  },
  {
   "cell_type": "code",
   "execution_count": 87,
   "metadata": {},
   "outputs": [
    {
     "name": "stdout",
     "output_type": "stream",
     "text": [
      "Et le grand gagnant de conso d'alcool en 1989 est la Hungary avec un total de 16.29 litres par habitant\n"
     ]
    }
   ],
   "source": [
    "highest_value = 0\n",
    "highest_key = None\n",
    "for k,v in totals.items():\n",
    "    if v > highest_value:\n",
    "        highest_value = v\n",
    "        highest_key = k\n",
    "        \n",
    "print(f\"Et le grand gagnant de conso d'alcool en 1989 est la {highest_key} avec un total de {highest_value} litres par habitant\")"
   ]
  },
  {
   "cell_type": "code",
   "execution_count": null,
   "metadata": {},
   "outputs": [],
   "source": []
  }
 ],
 "metadata": {
  "kernelspec": {
   "display_name": "Python 3",
   "language": "python",
   "name": "python3"
  },
  "language_info": {
   "codemirror_mode": {
    "name": "ipython",
    "version": 3
   },
   "file_extension": ".py",
   "mimetype": "text/x-python",
   "name": "python",
   "nbconvert_exporter": "python",
   "pygments_lexer": "ipython3",
   "version": "3.6.8"
  }
 },
 "nbformat": 4,
 "nbformat_minor": 2
}
